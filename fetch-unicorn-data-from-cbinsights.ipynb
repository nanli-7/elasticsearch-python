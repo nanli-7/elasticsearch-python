{
 "cells": [
  {
   "cell_type": "markdown",
   "metadata": {},
   "source": [
    "# Loading Related Modules"
   ]
  },
  {
   "cell_type": "code",
   "execution_count": 2,
   "metadata": {
    "collapsed": true
   },
   "outputs": [],
   "source": [
    "import json\n",
    "import logging\n",
    "from pprint import pprint\n",
    "from time import sleep\n",
    "import re\n"
   ]
  },
  {
   "cell_type": "code",
   "execution_count": 3,
   "metadata": {
    "collapsed": false
   },
   "outputs": [],
   "source": [
    "import requests\n",
    "from lxml import html\n",
    "from bs4 import BeautifulSoup\n",
    "from elasticsearch import Elasticsearch\n"
   ]
  },
  {
   "cell_type": "markdown",
   "metadata": {},
   "source": [
    "# Scraping Content from Webpage  "
   ]
  },
  {
   "cell_type": "code",
   "execution_count": 4,
   "metadata": {
    "collapsed": false
   },
   "outputs": [],
   "source": [
    "url = 'https://www.cbinsights.com/research-unicorn-companies'\n",
    "req = requests.get(url)\n",
    "page = req.text\n",
    "soup = BeautifulSoup(page, 'lxml')\n",
    "#print soup.prettify()"
   ]
  },
  {
   "cell_type": "code",
   "execution_count": 5,
   "metadata": {
    "collapsed": false
   },
   "outputs": [],
   "source": [
    "\"\"\"Select data table content\"\"\"\n",
    "table = soup.select('.sortable-theme-bootstrap')[0]"
   ]
  },
  {
   "cell_type": "markdown",
   "metadata": {},
   "source": [
    "# Parsing Related Table Content"
   ]
  },
  {
   "cell_type": "code",
   "execution_count": 6,
   "metadata": {
    "collapsed": false
   },
   "outputs": [],
   "source": [
    "def parse_table(table):\n",
    "    \"\"\" Get data from table \"\"\"\n",
    "    \n",
    "    parsed = []\n",
    "    for row in table.find_all(\"tr\"):\n",
    "        for cell in row.find_all(['td','th']):\n",
    "            parsed.append(cell.get_text())\n",
    "            \n",
    "    header = parsed[:6]\n",
    "    result = []\n",
    "    \n",
    "    \"\"\"convert list mappings into dictionary \"\"\"\n",
    "    \n",
    "    for row in [parsed[i:i + 6] for i in range(6, len(parsed), 6)]:\n",
    "        temp ={}\n",
    "        for n in range(6):\n",
    "            ## data cleaning : remove extra characters /n/t, $symbol\n",
    "            row[n] = re.sub('\\s+', ' ', row[n])\n",
    "            row[n] =row[n].replace(\"$\", \"\")\n",
    "\n",
    "            temp[header[n]]=row[n]\n",
    "            \n",
    "        result.append(temp)        \n",
    "            \n",
    "    return result"
   ]
  },
  {
   "cell_type": "code",
   "execution_count": 7,
   "metadata": {
    "collapsed": false,
    "scrolled": true
   },
   "outputs": [],
   "source": [
    "unicorn = parse_table(table)"
   ]
  },
  {
   "cell_type": "code",
   "execution_count": 8,
   "metadata": {
    "collapsed": false
   },
   "outputs": [
    {
     "data": {
      "text/plain": [
       "[{u'Company': u'Uber',\n",
       "  u'Country': u'United States',\n",
       "  u'Date Joined': u'8/23/2013',\n",
       "  u'Industry': u'On-Demand',\n",
       "  u'Select Investors': u'Lowercase Capital, Benchmark Capital, Google Ventures',\n",
       "  u'Valuation ($B)': u'72'},\n",
       " {u'Company': u'Didi Chuxing ',\n",
       "  u'Country': u'China',\n",
       "  u'Date Joined': u'12/31/2014',\n",
       "  u'Industry': u'On-Demand',\n",
       "  u'Select Investors': u'Matrix Partners, Tiger Global Management, Softbank Corp.,',\n",
       "  u'Valuation ($B)': u'56'},\n",
       " {u'Company': u'Airbnb',\n",
       "  u'Country': u'United States',\n",
       "  u'Date Joined': u'7/26/2011',\n",
       "  u'Industry': u'eCommerce/Marketplace',\n",
       "  u'Select Investors': u'General Catalyst Partners, Andreessen Horowitz, ENIAC Ventures',\n",
       "  u'Valuation ($B)': u'29.3'},\n",
       " {u'Company': u'SpaceX',\n",
       "  u'Country': u'United States',\n",
       "  u'Date Joined': u'12/1/2012',\n",
       "  u'Industry': u'Other Transportation',\n",
       "  u'Select Investors': u'Founders Fund, Draper Fisher Jurvetson, Rothenberg Ventures',\n",
       "  u'Valuation ($B)': u'21.5'},\n",
       " {u'Company': u'Palantir Technologies',\n",
       "  u'Country': u'United States',\n",
       "  u'Date Joined': u'5/5/2011',\n",
       "  u'Industry': u'Big Data',\n",
       "  u'Select Investors': u'RRE Ventures, Founders Fund, In-Q-Tel',\n",
       "  u'Valuation ($B)': u'20'}]"
      ]
     },
     "execution_count": 8,
     "metadata": {},
     "output_type": "execute_result"
    }
   ],
   "source": [
    "# Check top 5 unicorn company info\n",
    "\n",
    "unicorn[:5]"
   ]
  },
  {
   "cell_type": "markdown",
   "metadata": {},
   "source": [
    "# Create Unicorn Index"
   ]
  },
  {
   "cell_type": "code",
   "execution_count": 9,
   "metadata": {
    "collapsed": false
   },
   "outputs": [],
   "source": [
    "def create_index(es_object, index_name):\n",
    "    created = False\n",
    "    # index settings\n",
    "    settings = {\n",
    "        \"settings\": {\n",
    "            \"number_of_shards\": 1,\n",
    "            \"number_of_replicas\": 0\n",
    "        },\n",
    "    \"mappings\": {\n",
    "    \"default\":{\n",
    "      \"dynamic\": \"strict\",\n",
    "      \"properties\": {\n",
    "       \"Company\":{\n",
    "          \"type\": \"text\"\n",
    "        },\n",
    "        \n",
    "        \"Country\":{\n",
    "          \"type\": \"text\",\n",
    "          \"fields\": {\n",
    "            \"keyword\":{\n",
    "              \"type\": \"keyword\"\n",
    "            }\n",
    "          }\n",
    "        },\n",
    "        \n",
    "        \"Date Joined\":{\n",
    "          \"type\": \"date\",\n",
    "          \"format\": \"MM/dd/yyyy\"\n",
    "        },\n",
    "        \"Industry\":{\n",
    "          \"type\": \"text\",\n",
    "          \"fields\": {\n",
    "            \"keyword\":{\n",
    "              \"type\": \"keyword\"\n",
    "            }\n",
    "          }                  \n",
    "        },\n",
    "        \"Select Investors\":{\n",
    "          \"type\": \"text\"\n",
    "        },\n",
    "        \"Valuation ($B)\": {\n",
    "          \"type\": \"float\"\n",
    "        }\n",
    "      }\n",
    "    }\n",
    "  }\n",
    "}\n",
    "\n",
    "\n",
    "    try:\n",
    "        if not es_object.indices.exists(index_name):\n",
    "            # Ignore 400 means to ignore \"Index Already Exist\" error.\n",
    "            es_object.indices.create(index=index_name, ignore=400, body=settings)\n",
    "            print('Created Index')\n",
    "        created = True\n",
    "    except Exception as ex:\n",
    "        print(str(ex))\n",
    "    finally:\n",
    "        return created"
   ]
  },
  {
   "cell_type": "code",
   "execution_count": 10,
   "metadata": {
    "collapsed": true
   },
   "outputs": [],
   "source": [
    "def store_record(elastic_object, index_name, idx, record):\n",
    "    is_stored = True\n",
    "    try:\n",
    "        outcome = elastic_object.index(index=index_name, doc_type='default', id= idx, body=record)\n",
    "        # un-pound the following line to check indexing result\n",
    "        # print(outcome['result'])\n",
    "    except Exception as ex:\n",
    "        print('Error in indexing data')\n",
    "        print(str(ex))\n",
    "        is_stored = False\n",
    "    finally:\n",
    "        return is_stored"
   ]
  },
  {
   "cell_type": "code",
   "execution_count": 11,
   "metadata": {
    "collapsed": true
   },
   "outputs": [],
   "source": [
    "def connect_elasticsearch():\n",
    "    _es = None\n",
    "    _es = Elasticsearch([{'host': 'localhost', 'port': 9200}])\n",
    "    if _es.ping():\n",
    "        print('Yay Connected')\n",
    "    else:\n",
    "        print('Awww it could not connect!')\n",
    "    return _es"
   ]
  },
  {
   "cell_type": "code",
   "execution_count": 12,
   "metadata": {
    "collapsed": true
   },
   "outputs": [],
   "source": [
    "def search(es_object, index_name, search ):\n",
    "    res = es_object.search(index = index_name, body = search)\n",
    "    pprint(res)"
   ]
  },
  {
   "cell_type": "markdown",
   "metadata": {},
   "source": [
    "# Add document in a specific index"
   ]
  },
  {
   "cell_type": "code",
   "execution_count": 13,
   "metadata": {
    "collapsed": false
   },
   "outputs": [
    {
     "name": "stdout",
     "output_type": "stream",
     "text": [
      "Yay Connected\n"
     ]
    }
   ],
   "source": [
    "es = connect_elasticsearch()\n",
    "\n",
    "for idx, row in enumerate(unicorn):\n",
    "    if es is not None:\n",
    "        if create_index(es, 'unicorn'):\n",
    "            out = store_record(es, 'unicorn', idx, row)\n",
    "            #print('Data indexed successfully')"
   ]
  },
  {
   "cell_type": "markdown",
   "metadata": {},
   "source": [
    "# Execute search requests"
   ]
  },
  {
   "cell_type": "code",
   "execution_count": 14,
   "metadata": {
    "collapsed": false
   },
   "outputs": [
    {
     "name": "stdout",
     "output_type": "stream",
     "text": [
      "Yay Connected\n",
      "{u'_shards': {u'failed': 0, u'skipped': 0, u'successful': 1, u'total': 1},\n",
      " u'aggregations': {u'number_of_companies': {u'buckets': [{u'doc_count': 125,\n",
      "                                                          u'key': u'United States'},\n",
      "                                                         {u'doc_count': 73,\n",
      "                                                          u'key': u'China'},\n",
      "                                                         {u'doc_count': 14,\n",
      "                                                          u'key': u'India'},\n",
      "                                                         {u'doc_count': 12,\n",
      "                                                          u'key': u'United Kingdom'},\n",
      "                                                         {u'doc_count': 6,\n",
      "                                                          u'key': u'Germany'},\n",
      "                                                         {u'doc_count': 4,\n",
      "                                                          u'key': u'Israel'},\n",
      "                                                         {u'doc_count': 2,\n",
      "                                                          u'key': u'Colombia'},\n",
      "                                                         {u'doc_count': 2,\n",
      "                                                          u'key': u'France'},\n",
      "                                                         {u'doc_count': 2,\n",
      "                                                          u'key': u'Indonesia'},\n",
      "                                                         {u'doc_count': 2,\n",
      "                                                          u'key': u'South Africa'}],\n",
      "                                            u'doc_count_error_upper_bound': 0,\n",
      "                                            u'sum_other_doc_count': 18}},\n",
      " u'hits': {u'hits': [], u'max_score': 0.0, u'total': 260},\n",
      " u'timed_out': False,\n",
      " u'took': 6}\n"
     ]
    }
   ],
   "source": [
    "es = connect_elasticsearch()\n",
    "\n",
    "search_object_1 = {\n",
    "  \"query\":{\n",
    "    \"match\": {\n",
    "    \"Select Investor\": \"Softbank\"\n",
    "    }\n",
    "  }\n",
    "}\n",
    "\n",
    "search_object_2 ={\n",
    "  \"size\": 0,\n",
    "  \"aggs\": {\n",
    "    \"number_of_companies\": {\n",
    "      \"terms\": {\n",
    "        \"field\": \"Country.keyword\"\n",
    "         }\n",
    "        }\n",
    "      }\n",
    "    }\n",
    "  \n",
    "search_object_3 = {\n",
    "  \"size\": 0,\n",
    "  \"aggs\": {\n",
    "    \"valuation_dist\": {\n",
    "      \"histogram\": {\n",
    "        \"field\": \"Valuation ($B)\",\n",
    "        \"interval\": 5,\n",
    "        \"min_doc_count\": 1\n",
    "      }\n",
    "    }\n",
    "  }\n",
    "}\n",
    "search(es, 'unicorn', search_object_2)"
   ]
  },
  {
   "cell_type": "markdown",
   "metadata": {},
   "source": [
    "# Optional: Perform Queries through Kibana DevTool Console"
   ]
  },
  {
   "cell_type": "markdown",
   "metadata": {},
   "source": [
    "### Create json file for bulk import"
   ]
  },
  {
   "cell_type": "code",
   "execution_count": 15,
   "metadata": {
    "collapsed": false
   },
   "outputs": [],
   "source": [
    "\"\"\"In order to create json file for bulk import, we shall add action data for each index\"\"\"\n",
    "\n",
    "action_list = []\n",
    "for i in range(len(unicorn)):\n",
    "    # create index for each entry\n",
    "    action = { \"index\" : { \"_index\" : \"unicorn\", \"_type\" : \"default\", \"_id\" : i+1 } }\n",
    "    action_list.append(action)"
   ]
  },
  {
   "cell_type": "code",
   "execution_count": 16,
   "metadata": {
    "collapsed": false
   },
   "outputs": [],
   "source": [
    "\"\"\"create json file in specific format for bulk API\"\"\"\n",
    "## action_and_meta_data\\n\n",
    "## optional_source\\n\n",
    "\n",
    "with open('unicorn.json', 'w') as outfile:\n",
    "    for (idx, line) in zip(action_list, unicorn):\n",
    "        json.dump(idx, outfile)\n",
    "        outfile.write('\\n')\n",
    "        json.dump(line, outfile)\n",
    "        outfile.write('\\n')"
   ]
  },
  {
   "cell_type": "markdown",
   "metadata": {},
   "source": [
    "### Create index and mappings"
   ]
  },
  {
   "cell_type": "markdown",
   "metadata": {
    "collapsed": false
   },
   "source": [
    "```\n",
    "PUT /unicorn\n",
    "\n",
    "{\n",
    "  \"mappings\":{   \n",
    "  \n",
    "    \"default\":{\n",
    "      \"properties\": {\n",
    "        \"Company\":{\n",
    "          \"type\": \"text\"\n",
    "        },\n",
    "        \n",
    "        \"Country\":{\n",
    "          \"type\": \"text\",\n",
    "          \"fields\": {\n",
    "            \"keyword\":{\n",
    "              \"type\": \"keyword\"\n",
    "            }\n",
    "          }\n",
    "        },\n",
    "        \n",
    "        \"Date Joined\":{\n",
    "          \"type\": \"date\",\n",
    "          \"format\": \"MM/dd/yyyy\"\n",
    "        },\n",
    "        \"Industry\":{\n",
    "          \"type\": \"text\",\n",
    "        },\n",
    "        \"Select Investors\":{\n",
    "          \"type\": \"text\",\n",
    "          \"fields\": {\n",
    "            \"keyword\":{\n",
    "              \"type\": \"text\"\n",
    "            }\n",
    "          }\n",
    "        },\n",
    "        \"Valuation ($B)\": {\n",
    "          \"type\": \"float\"\n",
    "        }\n",
    "      }\n",
    "    }\n",
    "  }\n",
    "}\n",
    "```\n"
   ]
  },
  {
   "cell_type": "markdown",
   "metadata": {},
   "source": [
    "### Index documents via bulk"
   ]
  },
  {
   "cell_type": "markdown",
   "metadata": {},
   "source": [
    "``` \n",
    "$ curl -s -H \"Content-Type: application/xOST localhost:9200/unicorn/_bulk --data-binary \"@unicorn.json\" \n",
    "```"
   ]
  },
  {
   "cell_type": "markdown",
   "metadata": {},
   "source": [
    "### Query Examples "
   ]
  },
  {
   "cell_type": "markdown",
   "metadata": {},
   "source": [
    "_we can use Kibana Devtool to do the query_ \n",
    "_How many unicorn company was founded during year 2017?_\n",
    "\n",
    "```\n",
    "GET /unicorn/default/_search\n",
    "\n",
    "{\n",
    "  \"size\": 0,\n",
    "  \"aggs\": {\n",
    "    \"date_range\": {\n",
    "      \"range\": {\n",
    "        \"field\": \"Date Joined\",\n",
    "        \"ranges\": [\n",
    "          {\n",
    "            \"to\": \"01/01/2017||+1y\",\n",
    "            \"from\": \"01/01/2017\"\n",
    "            \n",
    "          }\n",
    "        ]\n",
    "      }\n",
    "    }\n",
    "  }\n",
    "}\n",
    "```"
   ]
  },
  {
   "cell_type": "markdown",
   "metadata": {
    "collapsed": true
   },
   "source": [
    "__Returning Result__\n",
    "\n",
    "```\n",
    "{\n",
    "  \"took\": 15,\n",
    "  \"timed_out\": false,\n",
    "  \"_shards\": {\n",
    "    \"total\": 1,\n",
    "    \"successful\": 1,\n",
    "    \"skipped\": 0,\n",
    "    \"failed\": 0\n",
    "  },\n",
    "  \"hits\": {\n",
    "    \"total\": 260,\n",
    "    \"max_score\": 0,\n",
    "    \"hits\": []\n",
    "  },\n",
    "  \"aggregations\": {\n",
    "    \"date_range\": {\n",
    "      \"buckets\": [\n",
    "        {\n",
    "          \"key\": \"01/01/2017-01/01/2018\",\n",
    "          \"from\": 1483228800000,\n",
    "          \"from_as_string\": \"01/01/2017\",\n",
    "          \"to\": 1514764800000,\n",
    "          \"to_as_string\": \"01/01/2018\",\n",
    "          \"doc_count\": 66\n",
    "        }\n",
    "      ]\n",
    "    }\n",
    "  }\n",
    "}\n",
    "```"
   ]
  },
  {
   "cell_type": "code",
   "execution_count": null,
   "metadata": {
    "collapsed": true
   },
   "outputs": [],
   "source": []
  }
 ],
 "metadata": {
  "anaconda-cloud": {},
  "kernelspec": {
   "display_name": "Python [default]",
   "language": "python",
   "name": "python2"
  },
  "language_info": {
   "codemirror_mode": {
    "name": "ipython",
    "version": 2
   },
   "file_extension": ".py",
   "mimetype": "text/x-python",
   "name": "python",
   "nbconvert_exporter": "python",
   "pygments_lexer": "ipython2",
   "version": "2.7.12"
  }
 },
 "nbformat": 4,
 "nbformat_minor": 2
}
