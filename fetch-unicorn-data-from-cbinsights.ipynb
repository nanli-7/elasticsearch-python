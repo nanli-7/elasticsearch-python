<<<<<<< HEAD
{
 "cells": [
  {
   "cell_type": "markdown",
   "metadata": {},
   "source": [
    "# Loading Related Modules"
   ]
  },
  {
   "cell_type": "code",
   "execution_count": 2,
   "metadata": {
    "collapsed": true
   },
   "outputs": [],
   "source": [
    "import json\n",
    "import logging\n",
    "from pprint import pprint\n",
    "from time import sleep\n",
    "import re\n"
   ]
  },
  {
   "cell_type": "code",
   "execution_count": 3,
   "metadata": {
    "collapsed": false
   },
   "outputs": [],
   "source": [
    "import requests\n",
    "from lxml import html\n",
    "from bs4 import BeautifulSoup\n",
    "from elasticsearch import Elasticsearch\n"
   ]
  },
  {
   "cell_type": "markdown",
   "metadata": {},
   "source": [
    "# Scraping Content from Webpage  "
   ]
  },
  {
   "cell_type": "code",
   "execution_count": 4,
   "metadata": {
    "collapsed": false
   },
   "outputs": [],
   "source": [
    "url = 'https://www.cbinsights.com/research-unicorn-companies'\n",
    "req = requests.get(url)\n",
    "page = req.text\n",
    "soup = BeautifulSoup(page, 'lxml')\n",
    "#print soup.prettify()"
   ]
  },
  {
   "cell_type": "code",
   "execution_count": 5,
   "metadata": {
    "collapsed": false
   },
   "outputs": [],
   "source": [
    "\"\"\"Select data table content\"\"\"\n",
    "table = soup.select('.sortable-theme-bootstrap')[0]"
   ]
  },
  {
   "cell_type": "markdown",
   "metadata": {},
   "source": [
    "# Parsing Related Table Content"
   ]
  },
  {
   "cell_type": "code",
   "execution_count": 6,
   "metadata": {
    "collapsed": false
   },
   "outputs": [],
   "source": [
    "def parse_table(table):\n",
    "    \"\"\" Get data from table \"\"\"\n",
    "    \n",
    "    parsed = []\n",
    "    for row in table.find_all(\"tr\"):\n",
    "        for cell in row.find_all(['td','th']):\n",
    "            parsed.append(cell.get_text())\n",
    "            \n",
    "    header = parsed[:6]\n",
    "    result = []\n",
    "    \n",
    "    \"\"\"convert list mappings into dictionary \"\"\"\n",
    "    \n",
    "    for row in [parsed[i:i + 6] for i in range(6, len(parsed), 6)]:\n",
    "        temp ={}\n",
    "        for n in range(6):\n",
    "            ## data cleaning : remove extra characters /n/t, $symbol\n",
    "            row[n] = re.sub('\\s+', ' ', row[n])\n",
    "            row[n] =row[n].replace(\"$\", \"\")\n",
    "\n",
    "            temp[header[n]]=row[n]\n",
    "            \n",
    "        result.append(temp)        \n",
    "            \n",
    "    return result"
   ]
  },
  {
   "cell_type": "code",
   "execution_count": 7,
   "metadata": {
    "collapsed": false,
    "scrolled": true
   },
   "outputs": [],
   "source": [
    "unicorn = parse_table(table)"
   ]
  },
  {
   "cell_type": "code",
   "execution_count": 8,
   "metadata": {
    "collapsed": false
   },
   "outputs": [
    {
     "data": {
      "text/plain": [
       "[{u'Company': u'Uber',\n",
       "  u'Country': u'United States',\n",
       "  u'Date Joined': u'8/23/2013',\n",
       "  u'Industry': u'On-Demand',\n",
       "  u'Select Investors': u'Lowercase Capital, Benchmark Capital, Google Ventures',\n",
       "  u'Valuation ($B)': u'72'},\n",
       " {u'Company': u'Didi Chuxing ',\n",
       "  u'Country': u'China',\n",
       "  u'Date Joined': u'12/31/2014',\n",
       "  u'Industry': u'On-Demand',\n",
       "  u'Select Investors': u'Matrix Partners, Tiger Global Management, Softbank Corp.,',\n",
       "  u'Valuation ($B)': u'56'},\n",
       " {u'Company': u'Airbnb',\n",
       "  u'Country': u'United States',\n",
       "  u'Date Joined': u'7/26/2011',\n",
       "  u'Industry': u'eCommerce/Marketplace',\n",
       "  u'Select Investors': u'General Catalyst Partners, Andreessen Horowitz, ENIAC Ventures',\n",
       "  u'Valuation ($B)': u'29.3'},\n",
       " {u'Company': u'SpaceX',\n",
       "  u'Country': u'United States',\n",
       "  u'Date Joined': u'12/1/2012',\n",
       "  u'Industry': u'Other Transportation',\n",
       "  u'Select Investors': u'Founders Fund, Draper Fisher Jurvetson, Rothenberg Ventures',\n",
       "  u'Valuation ($B)': u'21.5'},\n",
       " {u'Company': u'Palantir Technologies',\n",
       "  u'Country': u'United States',\n",
       "  u'Date Joined': u'5/5/2011',\n",
       "  u'Industry': u'Big Data',\n",
       "  u'Select Investors': u'RRE Ventures, Founders Fund, In-Q-Tel',\n",
       "  u'Valuation ($B)': u'20'}]"
      ]
     },
     "execution_count": 8,
     "metadata": {},
     "output_type": "execute_result"
    }
   ],
   "source": [
    "# Check top 5 unicorn company info\n",
    "\n",
    "unicorn[:5]"
   ]
  },
  {
   "cell_type": "markdown",
   "metadata": {},
   "source": [
    "# Create Unicorn Index"
   ]
  },
  {
   "cell_type": "code",
   "execution_count": 9,
   "metadata": {
    "collapsed": false
   },
   "outputs": [],
   "source": [
    "def create_index(es_object, index_name):\n",
    "    created = False\n",
    "    # index settings\n",
    "    settings = {\n",
    "        \"settings\": {\n",
    "            \"number_of_shards\": 1,\n",
    "            \"number_of_replicas\": 0\n",
    "        },\n",
    "    \"mappings\": {\n",
    "    \"default\":{\n",
    "      \"dynamic\": \"strict\",\n",
    "      \"properties\": {\n",
    "       \"Company\":{\n",
    "          \"type\": \"text\"\n",
    "        },\n",
    "        \n",
    "        \"Country\":{\n",
    "          \"type\": \"text\",\n",
    "          \"fields\": {\n",
    "            \"keyword\":{\n",
    "              \"type\": \"keyword\"\n",
    "            }\n",
    "          }\n",
    "        },\n",
    "        \n",
    "        \"Date Joined\":{\n",
    "          \"type\": \"date\",\n",
    "          \"format\": \"MM/dd/yyyy\"\n",
    "        },\n",
    "        \"Industry\":{\n",
    "          \"type\": \"text\",\n",
    "          \"fields\": {\n",
    "            \"keyword\":{\n",
    "              \"type\": \"keyword\"\n",
    "            }\n",
    "          }                  \n",
    "        },\n",
    "        \"Select Investors\":{\n",
    "          \"type\": \"text\"\n",
    "        },\n",
    "        \"Valuation ($B)\": {\n",
    "          \"type\": \"float\"\n",
    "        }\n",
    "      }\n",
    "    }\n",
    "  }\n",
    "}\n",
    "\n",
    "\n",
    "    try:\n",
    "        if not es_object.indices.exists(index_name):\n",
    "            # Ignore 400 means to ignore \"Index Already Exist\" error.\n",
    "            es_object.indices.create(index=index_name, ignore=400, body=settings)\n",
    "            print('Created Index')\n",
    "        created = True\n",
    "    except Exception as ex:\n",
    "        print(str(ex))\n",
    "    finally:\n",
    "        return created"
   ]
  },
  {
   "cell_type": "code",
   "execution_count": 10,
   "metadata": {
    "collapsed": true
   },
   "outputs": [],
   "source": [
    "def store_record(elastic_object, index_name, idx, record):\n",
    "    is_stored = True\n",
    "    try:\n",
    "        outcome = elastic_object.index(index=index_name, doc_type='default', id= idx, body=record)\n",
    "        # un-pound the following line to check indexing result\n",
    "        # print(outcome['result'])\n",
    "    except Exception as ex:\n",
    "        print('Error in indexing data')\n",
    "        print(str(ex))\n",
    "        is_stored = False\n",
    "    finally:\n",
    "        return is_stored"
   ]
  },
  {
   "cell_type": "code",
   "execution_count": 11,
   "metadata": {
    "collapsed": true
   },
   "outputs": [],
   "source": [
    "def connect_elasticsearch():\n",
    "    _es = None\n",
    "    _es = Elasticsearch([{'host': 'localhost', 'port': 9200}])\n",
    "    if _es.ping():\n",
    "        print('Yay Connected')\n",
    "    else:\n",
    "        print('Awww it could not connect!')\n",
    "    return _es"
   ]
  },
  {
   "cell_type": "code",
   "execution_count": 12,
   "metadata": {
    "collapsed": true
   },
   "outputs": [],
   "source": [
    "def search(es_object, index_name, search ):\n",
    "    res = es_object.search(index = index_name, body = search)\n",
    "    pprint(res)"
   ]
  },
  {
   "cell_type": "markdown",
   "metadata": {},
   "source": [
    "# Add document in a specific index"
   ]
  },
  {
   "cell_type": "code",
   "execution_count": 13,
   "metadata": {
    "collapsed": false
   },
   "outputs": [
    {
     "name": "stdout",
     "output_type": "stream",
     "text": [
      "Yay Connected\n"
     ]
    }
   ],
   "source": [
    "es = connect_elasticsearch()\n",
    "\n",
    "for idx, row in enumerate(unicorn):\n",
    "    if es is not None:\n",
    "        if create_index(es, 'unicorn'):\n",
    "            out = store_record(es, 'unicorn', idx, row)\n",
    "            #print('Data indexed successfully')"
   ]
  },
  {
   "cell_type": "markdown",
   "metadata": {},
   "source": [
    "# Execute search requests"
   ]
  },
  {
   "cell_type": "code",
   "execution_count": 14,
   "metadata": {
    "collapsed": false
   },
   "outputs": [
    {
     "name": "stdout",
     "output_type": "stream",
     "text": [
      "Yay Connected\n",
      "{u'_shards': {u'failed': 0, u'skipped': 0, u'successful': 1, u'total': 1},\n",
      " u'aggregations': {u'number_of_companies': {u'buckets': [{u'doc_count': 125,\n",
      "                                                          u'key': u'United States'},\n",
      "                                                         {u'doc_count': 73,\n",
      "                                                          u'key': u'China'},\n",
      "                                                         {u'doc_count': 14,\n",
      "                                                          u'key': u'India'},\n",
      "                                                         {u'doc_count': 12,\n",
      "                                                          u'key': u'United Kingdom'},\n",
      "                                                         {u'doc_count': 6,\n",
      "                                                          u'key': u'Germany'},\n",
      "                                                         {u'doc_count': 4,\n",
      "                                                          u'key': u'Israel'},\n",
      "                                                         {u'doc_count': 2,\n",
      "                                                          u'key': u'Colombia'},\n",
      "                                                         {u'doc_count': 2,\n",
      "                                                          u'key': u'France'},\n",
      "                                                         {u'doc_count': 2,\n",
      "                                                          u'key': u'Indonesia'},\n",
      "                                                         {u'doc_count': 2,\n",
      "                                                          u'key': u'South Africa'}],\n",
      "                                            u'doc_count_error_upper_bound': 0,\n",
      "                                            u'sum_other_doc_count': 18}},\n",
      " u'hits': {u'hits': [], u'max_score': 0.0, u'total': 260},\n",
      " u'timed_out': False,\n",
      " u'took': 6}\n"
     ]
    }
   ],
   "source": [
    "es = connect_elasticsearch()\n",
    "\n",
    "search_object_1 = {\n",
    "  \"query\":{\n",
    "    \"match\": {\n",
    "    \"Select Investor\": \"Softbank\"\n",
    "    }\n",
    "  }\n",
    "}\n",
    "\n",
    "search_object_2 ={\n",
    "  \"size\": 0,\n",
    "  \"aggs\": {\n",
    "    \"number_of_companies\": {\n",
    "      \"terms\": {\n",
    "        \"field\": \"Country.keyword\"\n",
    "         }\n",
    "        }\n",
    "      }\n",
    "    }\n",
    "  \n",
    "search_object_3 = {\n",
    "  \"size\": 0,\n",
    "  \"aggs\": {\n",
    "    \"valuation_dist\": {\n",
    "      \"histogram\": {\n",
    "        \"field\": \"Valuation ($B)\",\n",
    "        \"interval\": 5,\n",
    "        \"min_doc_count\": 1\n",
    "      }\n",
    "    }\n",
    "  }\n",
    "}\n",
    "search(es, 'unicorn', search_object_2)"
   ]
  },
  {
   "cell_type": "markdown",
   "metadata": {},
   "source": [
    "# Optional: Perform Queries through Kibana DevTool Console"
   ]
  },
  {
   "cell_type": "markdown",
   "metadata": {},
   "source": [
    "### Create json file for bulk import"
   ]
  },
  {
   "cell_type": "code",
   "execution_count": 15,
   "metadata": {
    "collapsed": false
   },
   "outputs": [],
   "source": [
    "\"\"\"In order to create json file for bulk import, we shall add action data for each index\"\"\"\n",
    "\n",
    "action_list = []\n",
    "for i in range(len(unicorn)):\n",
    "    # create index for each entry\n",
    "    action = { \"index\" : { \"_index\" : \"unicorn\", \"_type\" : \"default\", \"_id\" : i+1 } }\n",
    "    action_list.append(action)"
   ]
  },
  {
   "cell_type": "code",
   "execution_count": 16,
   "metadata": {
    "collapsed": false
   },
   "outputs": [],
   "source": [
    "\"\"\"create json file in specific format for bulk API\"\"\"\n",
    "## action_and_meta_data\\n\n",
    "## optional_source\\n\n",
    "\n",
    "with open('unicorn.json', 'w') as outfile:\n",
    "    for (idx, line) in zip(action_list, unicorn):\n",
    "        json.dump(idx, outfile)\n",
    "        outfile.write('\\n')\n",
    "        json.dump(line, outfile)\n",
    "        outfile.write('\\n')"
   ]
  },
  {
   "cell_type": "markdown",
   "metadata": {},
   "source": [
    "### Create index and mappings"
   ]
  },
  {
   "cell_type": "markdown",
   "metadata": {
    "collapsed": false
   },
   "source": [
    "```\n",
    "PUT /unicorn\n",
    "\n",
    "{\n",
    "  \"mappings\":{   \n",
    "  \n",
    "    \"default\":{\n",
    "      \"properties\": {\n",
    "        \"Company\":{\n",
    "          \"type\": \"text\"\n",
    "        },\n",
    "        \n",
    "        \"Country\":{\n",
    "          \"type\": \"text\",\n",
    "          \"fields\": {\n",
    "            \"keyword\":{\n",
    "              \"type\": \"keyword\"\n",
    "            }\n",
    "          }\n",
    "        },\n",
    "        \n",
    "        \"Date Joined\":{\n",
    "          \"type\": \"date\",\n",
    "          \"format\": \"MM/dd/yyyy\"\n",
    "        },\n",
    "        \"Industry\":{\n",
    "          \"type\": \"text\",\n",
    "        },\n",
    "        \"Select Investors\":{\n",
    "          \"type\": \"text\",\n",
    "          \"fields\": {\n",
    "            \"keyword\":{\n",
    "              \"type\": \"text\"\n",
    "            }\n",
    "          }\n",
    "        },\n",
    "        \"Valuation ($B)\": {\n",
    "          \"type\": \"float\"\n",
    "        }\n",
    "      }\n",
    "    }\n",
    "  }\n",
    "}\n",
    "```\n"
   ]
  },
  {
   "cell_type": "markdown",
   "metadata": {},
   "source": [
    "### Index documents via bulk"
   ]
  },
  {
   "cell_type": "markdown",
   "metadata": {},
   "source": [
    "``` \n",
    "$ curl -s -H \"Content-Type: application/xOST localhost:9200/unicorn/_bulk --data-binary \"@unicorn.json\" \n",
    "```"
   ]
  },
  {
   "cell_type": "markdown",
   "metadata": {},
   "source": [
    "### Query Examples "
   ]
  },
  {
   "cell_type": "markdown",
   "metadata": {},
   "source": [
    "_we can use Kibana Devtool to do the query_ \n",
    "_How many unicorn company was founded during year 2017?_\n",
    "\n",
    "```\n",
    "GET /unicorn/default/_search\n",
    "\n",
    "{\n",
    "  \"size\": 0,\n",
    "  \"aggs\": {\n",
    "    \"date_range\": {\n",
    "      \"range\": {\n",
    "        \"field\": \"Date Joined\",\n",
    "        \"ranges\": [\n",
    "          {\n",
    "            \"to\": \"01/01/2017||+1y\",\n",
    "            \"from\": \"01/01/2017\"\n",
    "            \n",
    "          }\n",
    "        ]\n",
    "      }\n",
    "    }\n",
    "  }\n",
    "}\n",
    "```"
   ]
  },
  {
   "cell_type": "markdown",
   "metadata": {
    "collapsed": true
   },
   "source": [
    "__Returning Result__\n",
    "\n",
    "```\n",
    "{\n",
    "  \"took\": 15,\n",
    "  \"timed_out\": false,\n",
    "  \"_shards\": {\n",
    "    \"total\": 1,\n",
    "    \"successful\": 1,\n",
    "    \"skipped\": 0,\n",
    "    \"failed\": 0\n",
    "  },\n",
    "  \"hits\": {\n",
    "    \"total\": 260,\n",
    "    \"max_score\": 0,\n",
    "    \"hits\": []\n",
    "  },\n",
    "  \"aggregations\": {\n",
    "    \"date_range\": {\n",
    "      \"buckets\": [\n",
    "        {\n",
    "          \"key\": \"01/01/2017-01/01/2018\",\n",
    "          \"from\": 1483228800000,\n",
    "          \"from_as_string\": \"01/01/2017\",\n",
    "          \"to\": 1514764800000,\n",
    "          \"to_as_string\": \"01/01/2018\",\n",
    "          \"doc_count\": 66\n",
    "        }\n",
    "      ]\n",
    "    }\n",
    "  }\n",
    "}\n",
    "```"
   ]
  },
  {
   "cell_type": "code",
   "execution_count": null,
   "metadata": {
    "collapsed": true
   },
   "outputs": [],
   "source": []
  }
 ],
 "metadata": {
  "anaconda-cloud": {},
  "kernelspec": {
   "display_name": "Python [default]",
   "language": "python",
   "name": "python2"
  },
  "language_info": {
   "codemirror_mode": {
    "name": "ipython",
    "version": 2
   },
   "file_extension": ".py",
   "mimetype": "text/x-python",
   "name": "python",
   "nbconvert_exporter": "python",
   "pygments_lexer": "ipython2",
   "version": "2.7.12"
  }
 },
 "nbformat": 4,
 "nbformat_minor": 2
}
||||||| merged common ancestors
=======
{
 "cells": [
  {
   "cell_type": "markdown",
   "metadata": {},
   "source": [
    "# Loading Related Modules"
   ]
  },
  {
   "cell_type": "code",
   "execution_count": 1,
   "metadata": {
    "collapsed": true
   },
   "outputs": [],
   "source": [
    "import json\n",
    "import logging\n",
    "from pprint import pprint\n",
    "from time import sleep\n",
    "import re\n"
   ]
  },
  {
   "cell_type": "code",
   "execution_count": 2,
   "metadata": {
    "collapsed": false
   },
   "outputs": [],
   "source": [
    "import requests\n",
    "from lxml import html\n",
    "from bs4 import BeautifulSoup\n",
    "from elasticsearch import Elasticsearch\n"
   ]
  },
  {
   "cell_type": "markdown",
   "metadata": {},
   "source": [
    "# Scraping Webpage  "
   ]
  },
  {
   "cell_type": "code",
   "execution_count": 5,
   "metadata": {
    "collapsed": false
   },
   "outputs": [],
   "source": [
    "url = 'https://www.cbinsights.com/research-unicorn-companies'\n",
    "req = requests.get(url)\n",
    "page = req.text\n",
    "soup = BeautifulSoup(page, 'lxml')\n",
    "#print soup.prettify()"
   ]
  },
  {
   "cell_type": "code",
   "execution_count": 6,
   "metadata": {
    "collapsed": false
   },
   "outputs": [],
   "source": [
    "\"\"\"Select data table content\"\"\"\n",
    "table = soup.select('.sortable-theme-bootstrap')[0]"
   ]
  },
  {
   "cell_type": "markdown",
   "metadata": {},
   "source": [
    "# Parsing Content Table Data"
   ]
  },
  {
   "cell_type": "code",
   "execution_count": 7,
   "metadata": {
    "collapsed": false
   },
   "outputs": [],
   "source": [
    "def parse_table(table):\n",
    "    \"\"\" Get data from table \"\"\"\n",
    "    \n",
    "    parsed = []\n",
    "    for row in table.find_all(\"tr\"):\n",
    "        for cell in row.find_all(['td','th']):\n",
    "            parsed.append(cell.get_text())\n",
    "            \n",
    "    header = parsed[:6]\n",
    "    result = []\n",
    "    \n",
    "    \"\"\"convert list mappings into dictionary \"\"\"\n",
    "    \n",
    "    for row in [parsed[i:i + 6] for i in range(6, len(parsed), 6)]:\n",
    "        temp ={}\n",
    "        for n in range(6):\n",
    "            ## data cleaning : remove extra characters /n/t, $symbol\n",
    "            row[n] = re.sub('\\s+', ' ', row[n])\n",
    "            row[n] =row[n].replace(\"$\", \"\")\n",
    "\n",
    "            temp[header[n]]=row[n]\n",
    "            \n",
    "        result.append(temp)        \n",
    "            \n",
    "    return result"
   ]
  },
  {
   "cell_type": "code",
   "execution_count": 8,
   "metadata": {
    "collapsed": false,
    "scrolled": true
   },
   "outputs": [],
   "source": [
    "unicorn = parse_table(table)"
   ]
  },
  {
   "cell_type": "code",
   "execution_count": 10,
   "metadata": {
    "collapsed": false
   },
   "outputs": [
    {
     "data": {
      "text/plain": [
       "[{u'Company': u'Uber',\n",
       "  u'Country': u'United States',\n",
       "  u'Date Joined': u'8/23/2013',\n",
       "  u'Industry': u'On-Demand',\n",
       "  u'Select Investors': u'Lowercase Capital, Benchmark Capital, Google Ventures',\n",
       "  u'Valuation ($B)': u'72'},\n",
       " {u'Company': u'Didi Chuxing ',\n",
       "  u'Country': u'China',\n",
       "  u'Date Joined': u'12/31/2014',\n",
       "  u'Industry': u'On-Demand',\n",
       "  u'Select Investors': u'Matrix Partners, Tiger Global Management, Softbank Corp.,',\n",
       "  u'Valuation ($B)': u'56'},\n",
       " {u'Company': u'Airbnb',\n",
       "  u'Country': u'United States',\n",
       "  u'Date Joined': u'7/26/2011',\n",
       "  u'Industry': u'eCommerce/Marketplace',\n",
       "  u'Select Investors': u'General Catalyst Partners, Andreessen Horowitz, ENIAC Ventures',\n",
       "  u'Valuation ($B)': u'29.3'},\n",
       " {u'Company': u'SpaceX',\n",
       "  u'Country': u'United States',\n",
       "  u'Date Joined': u'12/1/2012',\n",
       "  u'Industry': u'Other Transportation',\n",
       "  u'Select Investors': u'Founders Fund, Draper Fisher Jurvetson, Rothenberg Ventures',\n",
       "  u'Valuation ($B)': u'21.5'},\n",
       " {u'Company': u'Palantir Technologies',\n",
       "  u'Country': u'United States',\n",
       "  u'Date Joined': u'5/5/2011',\n",
       "  u'Industry': u'Big Data',\n",
       "  u'Select Investors': u'RRE Ventures, Founders Fund, In-Q-Tel',\n",
       "  u'Valuation ($B)': u'20'}]"
      ]
     },
     "execution_count": 10,
     "metadata": {},
     "output_type": "execute_result"
    }
   ],
   "source": [
    "unicorn[:5]"
   ]
  },
  {
   "cell_type": "markdown",
   "metadata": {},
   "source": [
    "# Option 1 - Query through Kibana DevTool Console"
   ]
  },
  {
   "cell_type": "markdown",
   "metadata": {},
   "source": [
    "### Create json file for bulk import"
   ]
  },
  {
   "cell_type": "code",
   "execution_count": 11,
   "metadata": {
    "collapsed": false
   },
   "outputs": [],
   "source": [
    "\"\"\"In order to create json file for bulk import, we shall add action data for each index\"\"\"\n",
    "\n",
    "action_list = []\n",
    "for i in range(len(unicorn)):\n",
    "    # create index for each entry\n",
    "    action = { \"index\" : { \"_index\" : \"unicorn\", \"_type\" : \"default\", \"_id\" : i+1 } }\n",
    "    action_list.append(action)"
   ]
  },
  {
   "cell_type": "code",
   "execution_count": 12,
   "metadata": {
    "collapsed": false
   },
   "outputs": [],
   "source": [
    "\"\"\"create json file in specific format for bulk API\"\"\"\n",
    "## action_and_meta_data\\n\n",
    "## optional_source\\n\n",
    "\n",
    "with open('unicorn.json', 'w') as outfile:\n",
    "    for (idx, line) in zip(action_list, unicorn):\n",
    "        json.dump(idx, outfile)\n",
    "        outfile.write('\\n')\n",
    "        json.dump(line, outfile)\n",
    "        outfile.write('\\n')"
   ]
  },
  {
   "cell_type": "markdown",
   "metadata": {},
   "source": [
    "### Create index and mappings"
   ]
  },
  {
   "cell_type": "markdown",
   "metadata": {
    "collapsed": false
   },
   "source": [
    "\n",
    "PUT /unicorn\n",
    "\n",
    "{\n",
    "  \"mappings\":{   \n",
    "  \n",
    "    \"default\":{\n",
    "      \"properties\": {\n",
    "        \"Company\":{\n",
    "          \"type\": \"text\"\n",
    "        },\n",
    "        \n",
    "        \"Country\":{\n",
    "          \"type\": \"text\",\n",
    "          \"fields\": {\n",
    "            \"keyword\":{\n",
    "              \"type\": \"keyword\"\n",
    "            }\n",
    "          }\n",
    "        },\n",
    "        \n",
    "        \"Date Joined\":{\n",
    "          \"type\": \"date\",\n",
    "          \"format\": \"MM/dd/yyyy\"\n",
    "        },\n",
    "        \"Industry\":{\n",
    "          \"type\": \"text\",\n",
    "        },\n",
    "        \"Select Investors\":{\n",
    "          \"type\": \"text\",\n",
    "          \"fields\": {\n",
    "            \"keyword\":{\n",
    "              \"type\": \"text\"\n",
    "            }\n",
    "          }\n",
    "        },\n",
    "        \"Valuation ($B)\": {\n",
    "          \"type\": \"float\"\n",
    "        }\n",
    "      }\n",
    "    }\n",
    "  }\n",
    "}"
   ]
  },
  {
   "cell_type": "markdown",
   "metadata": {},
   "source": [
    "### Index documents via bulk"
   ]
  },
  {
   "cell_type": "markdown",
   "metadata": {},
   "source": [
    " $ curl -s -H \"Content-Type: application/xOST localhost:9200/unicorn/_bulk --data-binary \"@unicorn.json\""
   ]
  },
  {
   "cell_type": "markdown",
   "metadata": {},
   "source": [
    "### Query Examples "
   ]
  },
  {
   "cell_type": "markdown",
   "metadata": {},
   "source": [
    "\"\"\" we can use Kibana Devtool to do the query\"\"\"\n",
    "\n",
    "GET /unicorn/default/_search\n",
    "\n",
    "{\n",
    "  \"size\": 0,\n",
    "  \"aggs\": {\n",
    "    \"date_range\": {\n",
    "      \"range\": {\n",
    "        \"field\": \"Date Joined\",\n",
    "        \"ranges\": [\n",
    "          {\n",
    "            \"to\": \"01/01/2017||+1y\",\n",
    "            \"from\": \"01/01/2017\"\n",
    "            \n",
    "          }\n",
    "        ]\n",
    "      }\n",
    "    }\n",
    "  }\n",
    "}"
   ]
  },
  {
   "cell_type": "markdown",
   "metadata": {},
   "source": [
    "# Option 2 - Query by ES Python API"
   ]
  },
  {
   "cell_type": "markdown",
   "metadata": {},
   "source": [
    "### Create Index"
   ]
  },
  {
   "cell_type": "code",
   "execution_count": 13,
   "metadata": {
    "collapsed": false
   },
   "outputs": [],
   "source": [
    "def create_index(es_object, index_name):\n",
    "    created = False\n",
    "    # index settings\n",
    "    settings = {\n",
    "        \"settings\": {\n",
    "            \"number_of_shards\": 1,\n",
    "            \"number_of_replicas\": 0\n",
    "        },\n",
    "    \"mappings\": {\n",
    "    \"default\":{\n",
    "      \"dynamic\": \"strict\",\n",
    "      \"properties\": {\n",
    "       \"Company\":{\n",
    "          \"type\": \"text\"\n",
    "        },\n",
    "        \n",
    "        \"Country\":{\n",
    "          \"type\": \"text\",\n",
    "          \"fields\": {\n",
    "            \"keyword\":{\n",
    "              \"type\": \"keyword\"\n",
    "            }\n",
    "          }\n",
    "        },\n",
    "        \n",
    "        \"Date Joined\":{\n",
    "          \"type\": \"date\",\n",
    "          \"format\": \"MM/dd/yyyy\"\n",
    "        },\n",
    "        \"Industry\":{\n",
    "          \"type\": \"text\",\n",
    "        },\n",
    "        \"Select Investors\":{\n",
    "          \"type\": \"text\",\n",
    "          \"fields\": {\n",
    "            \"keyword\":{\n",
    "              \"type\": \"text\"\n",
    "            }\n",
    "          }\n",
    "        },\n",
    "        \"Valuation ($B)\": {\n",
    "          \"type\": \"float\"\n",
    "        }\n",
    "      }\n",
    "    }\n",
    "  }\n",
    "}\n",
    "\n",
    "\n",
    "    try:\n",
    "        if not es_object.indices.exists(index_name):\n",
    "            # Ignore 400 means to ignore \"Index Already Exist\" error.\n",
    "            es_object.indices.create(index=index_name, ignore=400, body=settings)\n",
    "            print('Created Index')\n",
    "        created = True\n",
    "    except Exception as ex:\n",
    "        print(str(ex))\n",
    "    finally:\n",
    "        return created"
   ]
  },
  {
   "cell_type": "code",
   "execution_count": 14,
   "metadata": {
    "collapsed": true
   },
   "outputs": [],
   "source": [
    "def store_record(elastic_object, index_name, idx, record):\n",
    "    is_stored = True\n",
    "    try:\n",
    "        outcome = elastic_object.index(index=index_name, doc_type='default', id= idx, body=record)\n",
    "        print(outcome)\n",
    "    except Exception as ex:\n",
    "        print('Error in indexing data')\n",
    "        print(str(ex))\n",
    "        is_stored = False\n",
    "    finally:\n",
    "        return is_stored"
   ]
  },
  {
   "cell_type": "code",
   "execution_count": 15,
   "metadata": {
    "collapsed": true
   },
   "outputs": [],
   "source": [
    "def connect_elasticsearch():\n",
    "    _es = None\n",
    "    _es = Elasticsearch([{'host': 'localhost', 'port': 9200}])\n",
    "    if _es.ping():\n",
    "        print('Yay Connected')\n",
    "    else:\n",
    "        print('Awww it could not connect!')\n",
    "    return _es"
   ]
  },
  {
   "cell_type": "code",
   "execution_count": 16,
   "metadata": {
    "collapsed": true
   },
   "outputs": [],
   "source": [
    "def search(es_object, index_name, search ):\n",
    "    res = es_object.search(index = index_name, body = search)\n",
    "    pprint(res)"
   ]
  },
  {
   "cell_type": "markdown",
   "metadata": {},
   "source": [
    "### Adds document in a specific index"
   ]
  },
  {
   "cell_type": "code",
   "execution_count": 17,
   "metadata": {
    "collapsed": false
   },
   "outputs": [
    {
     "name": "stdout",
     "output_type": "stream",
     "text": [
      "Yay Connected\n",
      "{u'_type': u'default', u'_seq_no': 522, u'_shards': {u'successful': 1, u'failed': 0, u'total': 1}, u'_index': u'unicorn', u'_version': 3, u'_primary_term': 1, u'result': u'updated', u'_id': u'0'}\n",
      "Data indexed successfully\n",
      "{u'_type': u'default', u'_seq_no': 523, u'_shards': {u'successful': 1, u'failed': 0, u'total': 1}, u'_index': u'unicorn', u'_version': 3, u'_primary_term': 1, u'result': u'updated', u'_id': u'1'}\n",
      "Data indexed successfully\n",
      "{u'_type': u'default', u'_seq_no': 524, u'_shards': {u'successful': 1, u'failed': 0, u'total': 1}, u'_index': u'unicorn', u'_version': 3, u'_primary_term': 1, u'result': u'updated', u'_id': u'2'}\n",
      "Data indexed successfully\n",
      "{u'_type': u'default', u'_seq_no': 525, u'_shards': {u'successful': 1, u'failed': 0, u'total': 1}, u'_index': u'unicorn', u'_version': 3, u'_primary_term': 1, u'result': u'updated', u'_id': u'3'}\n",
      "Data indexed successfully\n",
      "{u'_type': u'default', u'_seq_no': 526, u'_shards': {u'successful': 1, u'failed': 0, u'total': 1}, u'_index': u'unicorn', u'_version': 3, u'_primary_term': 1, u'result': u'updated', u'_id': u'4'}\n",
      "Data indexed successfully\n",
      "{u'_type': u'default', u'_seq_no': 527, u'_shards': {u'successful': 1, u'failed': 0, u'total': 1}, u'_index': u'unicorn', u'_version': 3, u'_primary_term': 1, u'result': u'updated', u'_id': u'5'}\n",
      "Data indexed successfully\n",
      "{u'_type': u'default', u'_seq_no': 528, u'_shards': {u'successful': 1, u'failed': 0, u'total': 1}, u'_index': u'unicorn', u'_version': 3, u'_primary_term': 1, u'result': u'updated', u'_id': u'6'}\n",
      "Data indexed successfully\n",
      "{u'_type': u'default', u'_seq_no': 529, u'_shards': {u'successful': 1, u'failed': 0, u'total': 1}, u'_index': u'unicorn', u'_version': 3, u'_primary_term': 1, u'result': u'updated', u'_id': u'7'}\n",
      "Data indexed successfully\n",
      "{u'_type': u'default', u'_seq_no': 530, u'_shards': {u'successful': 1, u'failed': 0, u'total': 1}, u'_index': u'unicorn', u'_version': 3, u'_primary_term': 1, u'result': u'updated', u'_id': u'8'}\n",
      "Data indexed successfully\n",
      "{u'_type': u'default', u'_seq_no': 531, u'_shards': {u'successful': 1, u'failed': 0, u'total': 1}, u'_index': u'unicorn', u'_version': 3, u'_primary_term': 1, u'result': u'updated', u'_id': u'9'}\n",
      "Data indexed successfully\n",
      "{u'_type': u'default', u'_seq_no': 532, u'_shards': {u'successful': 1, u'failed': 0, u'total': 1}, u'_index': u'unicorn', u'_version': 3, u'_primary_term': 1, u'result': u'updated', u'_id': u'10'}\n",
      "Data indexed successfully\n",
      "{u'_type': u'default', u'_seq_no': 533, u'_shards': {u'successful': 1, u'failed': 0, u'total': 1}, u'_index': u'unicorn', u'_version': 3, u'_primary_term': 1, u'result': u'updated', u'_id': u'11'}\n",
      "Data indexed successfully\n",
      "{u'_type': u'default', u'_seq_no': 534, u'_shards': {u'successful': 1, u'failed': 0, u'total': 1}, u'_index': u'unicorn', u'_version': 3, u'_primary_term': 1, u'result': u'updated', u'_id': u'12'}\n",
      "Data indexed successfully\n",
      "{u'_type': u'default', u'_seq_no': 535, u'_shards': {u'successful': 1, u'failed': 0, u'total': 1}, u'_index': u'unicorn', u'_version': 3, u'_primary_term': 1, u'result': u'updated', u'_id': u'13'}\n",
      "Data indexed successfully\n",
      "{u'_type': u'default', u'_seq_no': 536, u'_shards': {u'successful': 1, u'failed': 0, u'total': 1}, u'_index': u'unicorn', u'_version': 3, u'_primary_term': 1, u'result': u'updated', u'_id': u'14'}\n",
      "Data indexed successfully\n",
      "{u'_type': u'default', u'_seq_no': 537, u'_shards': {u'successful': 1, u'failed': 0, u'total': 1}, u'_index': u'unicorn', u'_version': 3, u'_primary_term': 1, u'result': u'updated', u'_id': u'15'}\n",
      "Data indexed successfully\n",
      "{u'_type': u'default', u'_seq_no': 538, u'_shards': {u'successful': 1, u'failed': 0, u'total': 1}, u'_index': u'unicorn', u'_version': 3, u'_primary_term': 1, u'result': u'updated', u'_id': u'16'}\n",
      "Data indexed successfully\n",
      "{u'_type': u'default', u'_seq_no': 539, u'_shards': {u'successful': 1, u'failed': 0, u'total': 1}, u'_index': u'unicorn', u'_version': 3, u'_primary_term': 1, u'result': u'updated', u'_id': u'17'}\n",
      "Data indexed successfully\n",
      "{u'_type': u'default', u'_seq_no': 540, u'_shards': {u'successful': 1, u'failed': 0, u'total': 1}, u'_index': u'unicorn', u'_version': 3, u'_primary_term': 1, u'result': u'updated', u'_id': u'18'}\n",
      "Data indexed successfully\n",
      "{u'_type': u'default', u'_seq_no': 541, u'_shards': {u'successful': 1, u'failed': 0, u'total': 1}, u'_index': u'unicorn', u'_version': 3, u'_primary_term': 1, u'result': u'updated', u'_id': u'19'}\n",
      "Data indexed successfully\n",
      "{u'_type': u'default', u'_seq_no': 542, u'_shards': {u'successful': 1, u'failed': 0, u'total': 1}, u'_index': u'unicorn', u'_version': 3, u'_primary_term': 1, u'result': u'updated', u'_id': u'20'}\n",
      "Data indexed successfully\n",
      "{u'_type': u'default', u'_seq_no': 543, u'_shards': {u'successful': 1, u'failed': 0, u'total': 1}, u'_index': u'unicorn', u'_version': 3, u'_primary_term': 1, u'result': u'updated', u'_id': u'21'}\n",
      "Data indexed successfully\n",
      "{u'_type': u'default', u'_seq_no': 544, u'_shards': {u'successful': 1, u'failed': 0, u'total': 1}, u'_index': u'unicorn', u'_version': 3, u'_primary_term': 1, u'result': u'updated', u'_id': u'22'}\n",
      "Data indexed successfully\n",
      "{u'_type': u'default', u'_seq_no': 545, u'_shards': {u'successful': 1, u'failed': 0, u'total': 1}, u'_index': u'unicorn', u'_version': 3, u'_primary_term': 1, u'result': u'updated', u'_id': u'23'}\n",
      "Data indexed successfully\n",
      "{u'_type': u'default', u'_seq_no': 546, u'_shards': {u'successful': 1, u'failed': 0, u'total': 1}, u'_index': u'unicorn', u'_version': 3, u'_primary_term': 1, u'result': u'updated', u'_id': u'24'}\n",
      "Data indexed successfully\n",
      "{u'_type': u'default', u'_seq_no': 547, u'_shards': {u'successful': 1, u'failed': 0, u'total': 1}, u'_index': u'unicorn', u'_version': 3, u'_primary_term': 1, u'result': u'updated', u'_id': u'25'}\n",
      "Data indexed successfully\n",
      "{u'_type': u'default', u'_seq_no': 548, u'_shards': {u'successful': 1, u'failed': 0, u'total': 1}, u'_index': u'unicorn', u'_version': 3, u'_primary_term': 1, u'result': u'updated', u'_id': u'26'}\n",
      "Data indexed successfully\n",
      "{u'_type': u'default', u'_seq_no': 549, u'_shards': {u'successful': 1, u'failed': 0, u'total': 1}, u'_index': u'unicorn', u'_version': 3, u'_primary_term': 1, u'result': u'updated', u'_id': u'27'}\n",
      "Data indexed successfully\n",
      "{u'_type': u'default', u'_seq_no': 550, u'_shards': {u'successful': 1, u'failed': 0, u'total': 1}, u'_index': u'unicorn', u'_version': 3, u'_primary_term': 1, u'result': u'updated', u'_id': u'28'}\n",
      "Data indexed successfully\n",
      "{u'_type': u'default', u'_seq_no': 551, u'_shards': {u'successful': 1, u'failed': 0, u'total': 1}, u'_index': u'unicorn', u'_version': 3, u'_primary_term': 1, u'result': u'updated', u'_id': u'29'}\n",
      "Data indexed successfully\n",
      "{u'_type': u'default', u'_seq_no': 552, u'_shards': {u'successful': 1, u'failed': 0, u'total': 1}, u'_index': u'unicorn', u'_version': 3, u'_primary_term': 1, u'result': u'updated', u'_id': u'30'}\n",
      "Data indexed successfully\n",
      "{u'_type': u'default', u'_seq_no': 553, u'_shards': {u'successful': 1, u'failed': 0, u'total': 1}, u'_index': u'unicorn', u'_version': 3, u'_primary_term': 1, u'result': u'updated', u'_id': u'31'}\n",
      "Data indexed successfully\n",
      "{u'_type': u'default', u'_seq_no': 554, u'_shards': {u'successful': 1, u'failed': 0, u'total': 1}, u'_index': u'unicorn', u'_version': 3, u'_primary_term': 1, u'result': u'updated', u'_id': u'32'}\n",
      "Data indexed successfully\n",
      "{u'_type': u'default', u'_seq_no': 555, u'_shards': {u'successful': 1, u'failed': 0, u'total': 1}, u'_index': u'unicorn', u'_version': 3, u'_primary_term': 1, u'result': u'updated', u'_id': u'33'}\n",
      "Data indexed successfully\n",
      "{u'_type': u'default', u'_seq_no': 556, u'_shards': {u'successful': 1, u'failed': 0, u'total': 1}, u'_index': u'unicorn', u'_version': 3, u'_primary_term': 1, u'result': u'updated', u'_id': u'34'}\n",
      "Data indexed successfully\n",
      "{u'_type': u'default', u'_seq_no': 557, u'_shards': {u'successful': 1, u'failed': 0, u'total': 1}, u'_index': u'unicorn', u'_version': 3, u'_primary_term': 1, u'result': u'updated', u'_id': u'35'}\n",
      "Data indexed successfully\n",
      "{u'_type': u'default', u'_seq_no': 558, u'_shards': {u'successful': 1, u'failed': 0, u'total': 1}, u'_index': u'unicorn', u'_version': 3, u'_primary_term': 1, u'result': u'updated', u'_id': u'36'}\n",
      "Data indexed successfully\n",
      "{u'_type': u'default', u'_seq_no': 559, u'_shards': {u'successful': 1, u'failed': 0, u'total': 1}, u'_index': u'unicorn', u'_version': 3, u'_primary_term': 1, u'result': u'updated', u'_id': u'37'}\n",
      "Data indexed successfully\n",
      "{u'_type': u'default', u'_seq_no': 560, u'_shards': {u'successful': 1, u'failed': 0, u'total': 1}, u'_index': u'unicorn', u'_version': 3, u'_primary_term': 1, u'result': u'updated', u'_id': u'38'}\n",
      "Data indexed successfully\n",
      "{u'_type': u'default', u'_seq_no': 561, u'_shards': {u'successful': 1, u'failed': 0, u'total': 1}, u'_index': u'unicorn', u'_version': 3, u'_primary_term': 1, u'result': u'updated', u'_id': u'39'}\n",
      "Data indexed successfully\n",
      "{u'_type': u'default', u'_seq_no': 562, u'_shards': {u'successful': 1, u'failed': 0, u'total': 1}, u'_index': u'unicorn', u'_version': 3, u'_primary_term': 1, u'result': u'updated', u'_id': u'40'}\n",
      "Data indexed successfully\n",
      "{u'_type': u'default', u'_seq_no': 563, u'_shards': {u'successful': 1, u'failed': 0, u'total': 1}, u'_index': u'unicorn', u'_version': 3, u'_primary_term': 1, u'result': u'updated', u'_id': u'41'}\n",
      "Data indexed successfully\n",
      "{u'_type': u'default', u'_seq_no': 564, u'_shards': {u'successful': 1, u'failed': 0, u'total': 1}, u'_index': u'unicorn', u'_version': 3, u'_primary_term': 1, u'result': u'updated', u'_id': u'42'}\n",
      "Data indexed successfully\n",
      "{u'_type': u'default', u'_seq_no': 565, u'_shards': {u'successful': 1, u'failed': 0, u'total': 1}, u'_index': u'unicorn', u'_version': 3, u'_primary_term': 1, u'result': u'updated', u'_id': u'43'}\n",
      "Data indexed successfully\n",
      "{u'_type': u'default', u'_seq_no': 566, u'_shards': {u'successful': 1, u'failed': 0, u'total': 1}, u'_index': u'unicorn', u'_version': 3, u'_primary_term': 1, u'result': u'updated', u'_id': u'44'}\n",
      "Data indexed successfully\n",
      "{u'_type': u'default', u'_seq_no': 567, u'_shards': {u'successful': 1, u'failed': 0, u'total': 1}, u'_index': u'unicorn', u'_version': 3, u'_primary_term': 1, u'result': u'updated', u'_id': u'45'}\n",
      "Data indexed successfully\n",
      "{u'_type': u'default', u'_seq_no': 568, u'_shards': {u'successful': 1, u'failed': 0, u'total': 1}, u'_index': u'unicorn', u'_version': 3, u'_primary_term': 1, u'result': u'updated', u'_id': u'46'}\n",
      "Data indexed successfully\n",
      "{u'_type': u'default', u'_seq_no': 569, u'_shards': {u'successful': 1, u'failed': 0, u'total': 1}, u'_index': u'unicorn', u'_version': 3, u'_primary_term': 1, u'result': u'updated', u'_id': u'47'}\n",
      "Data indexed successfully\n",
      "{u'_type': u'default', u'_seq_no': 570, u'_shards': {u'successful': 1, u'failed': 0, u'total': 1}, u'_index': u'unicorn', u'_version': 3, u'_primary_term': 1, u'result': u'updated', u'_id': u'48'}\n",
      "Data indexed successfully\n",
      "{u'_type': u'default', u'_seq_no': 571, u'_shards': {u'successful': 1, u'failed': 0, u'total': 1}, u'_index': u'unicorn', u'_version': 3, u'_primary_term': 1, u'result': u'updated', u'_id': u'49'}\n",
      "Data indexed successfully\n",
      "{u'_type': u'default', u'_seq_no': 572, u'_shards': {u'successful': 1, u'failed': 0, u'total': 1}, u'_index': u'unicorn', u'_version': 3, u'_primary_term': 1, u'result': u'updated', u'_id': u'50'}\n",
      "Data indexed successfully\n",
      "{u'_type': u'default', u'_seq_no': 573, u'_shards': {u'successful': 1, u'failed': 0, u'total': 1}, u'_index': u'unicorn', u'_version': 3, u'_primary_term': 1, u'result': u'updated', u'_id': u'51'}\n",
      "Data indexed successfully\n",
      "{u'_type': u'default', u'_seq_no': 574, u'_shards': {u'successful': 1, u'failed': 0, u'total': 1}, u'_index': u'unicorn', u'_version': 3, u'_primary_term': 1, u'result': u'updated', u'_id': u'52'}\n",
      "Data indexed successfully\n",
      "{u'_type': u'default', u'_seq_no': 575, u'_shards': {u'successful': 1, u'failed': 0, u'total': 1}, u'_index': u'unicorn', u'_version': 3, u'_primary_term': 1, u'result': u'updated', u'_id': u'53'}\n",
      "Data indexed successfully\n",
      "{u'_type': u'default', u'_seq_no': 576, u'_shards': {u'successful': 1, u'failed': 0, u'total': 1}, u'_index': u'unicorn', u'_version': 3, u'_primary_term': 1, u'result': u'updated', u'_id': u'54'}\n",
      "Data indexed successfully\n",
      "{u'_type': u'default', u'_seq_no': 577, u'_shards': {u'successful': 1, u'failed': 0, u'total': 1}, u'_index': u'unicorn', u'_version': 3, u'_primary_term': 1, u'result': u'updated', u'_id': u'55'}\n",
      "Data indexed successfully\n",
      "{u'_type': u'default', u'_seq_no': 578, u'_shards': {u'successful': 1, u'failed': 0, u'total': 1}, u'_index': u'unicorn', u'_version': 3, u'_primary_term': 1, u'result': u'updated', u'_id': u'56'}\n",
      "Data indexed successfully\n",
      "{u'_type': u'default', u'_seq_no': 579, u'_shards': {u'successful': 1, u'failed': 0, u'total': 1}, u'_index': u'unicorn', u'_version': 3, u'_primary_term': 1, u'result': u'updated', u'_id': u'57'}\n",
      "Data indexed successfully\n",
      "{u'_type': u'default', u'_seq_no': 580, u'_shards': {u'successful': 1, u'failed': 0, u'total': 1}, u'_index': u'unicorn', u'_version': 3, u'_primary_term': 1, u'result': u'updated', u'_id': u'58'}\n",
      "Data indexed successfully\n",
      "{u'_type': u'default', u'_seq_no': 581, u'_shards': {u'successful': 1, u'failed': 0, u'total': 1}, u'_index': u'unicorn', u'_version': 3, u'_primary_term': 1, u'result': u'updated', u'_id': u'59'}\n",
      "Data indexed successfully\n",
      "{u'_type': u'default', u'_seq_no': 582, u'_shards': {u'successful': 1, u'failed': 0, u'total': 1}, u'_index': u'unicorn', u'_version': 3, u'_primary_term': 1, u'result': u'updated', u'_id': u'60'}\n",
      "Data indexed successfully\n",
      "{u'_type': u'default', u'_seq_no': 583, u'_shards': {u'successful': 1, u'failed': 0, u'total': 1}, u'_index': u'unicorn', u'_version': 3, u'_primary_term': 1, u'result': u'updated', u'_id': u'61'}\n",
      "Data indexed successfully\n",
      "{u'_type': u'default', u'_seq_no': 584, u'_shards': {u'successful': 1, u'failed': 0, u'total': 1}, u'_index': u'unicorn', u'_version': 3, u'_primary_term': 1, u'result': u'updated', u'_id': u'62'}\n",
      "Data indexed successfully\n",
      "{u'_type': u'default', u'_seq_no': 585, u'_shards': {u'successful': 1, u'failed': 0, u'total': 1}, u'_index': u'unicorn', u'_version': 3, u'_primary_term': 1, u'result': u'updated', u'_id': u'63'}\n",
      "Data indexed successfully\n",
      "{u'_type': u'default', u'_seq_no': 586, u'_shards': {u'successful': 1, u'failed': 0, u'total': 1}, u'_index': u'unicorn', u'_version': 3, u'_primary_term': 1, u'result': u'updated', u'_id': u'64'}\n",
      "Data indexed successfully\n",
      "{u'_type': u'default', u'_seq_no': 587, u'_shards': {u'successful': 1, u'failed': 0, u'total': 1}, u'_index': u'unicorn', u'_version': 3, u'_primary_term': 1, u'result': u'updated', u'_id': u'65'}\n",
      "Data indexed successfully\n",
      "{u'_type': u'default', u'_seq_no': 588, u'_shards': {u'successful': 1, u'failed': 0, u'total': 1}, u'_index': u'unicorn', u'_version': 3, u'_primary_term': 1, u'result': u'updated', u'_id': u'66'}\n",
      "Data indexed successfully\n",
      "{u'_type': u'default', u'_seq_no': 589, u'_shards': {u'successful': 1, u'failed': 0, u'total': 1}, u'_index': u'unicorn', u'_version': 3, u'_primary_term': 1, u'result': u'updated', u'_id': u'67'}\n",
      "Data indexed successfully\n",
      "{u'_type': u'default', u'_seq_no': 590, u'_shards': {u'successful': 1, u'failed': 0, u'total': 1}, u'_index': u'unicorn', u'_version': 3, u'_primary_term': 1, u'result': u'updated', u'_id': u'68'}\n",
      "Data indexed successfully\n",
      "{u'_type': u'default', u'_seq_no': 591, u'_shards': {u'successful': 1, u'failed': 0, u'total': 1}, u'_index': u'unicorn', u'_version': 3, u'_primary_term': 1, u'result': u'updated', u'_id': u'69'}\n",
      "Data indexed successfully\n",
      "{u'_type': u'default', u'_seq_no': 592, u'_shards': {u'successful': 1, u'failed': 0, u'total': 1}, u'_index': u'unicorn', u'_version': 3, u'_primary_term': 1, u'result': u'updated', u'_id': u'70'}\n",
      "Data indexed successfully\n",
      "{u'_type': u'default', u'_seq_no': 593, u'_shards': {u'successful': 1, u'failed': 0, u'total': 1}, u'_index': u'unicorn', u'_version': 3, u'_primary_term': 1, u'result': u'updated', u'_id': u'71'}\n",
      "Data indexed successfully\n",
      "{u'_type': u'default', u'_seq_no': 594, u'_shards': {u'successful': 1, u'failed': 0, u'total': 1}, u'_index': u'unicorn', u'_version': 3, u'_primary_term': 1, u'result': u'updated', u'_id': u'72'}\n",
      "Data indexed successfully\n",
      "{u'_type': u'default', u'_seq_no': 595, u'_shards': {u'successful': 1, u'failed': 0, u'total': 1}, u'_index': u'unicorn', u'_version': 3, u'_primary_term': 1, u'result': u'updated', u'_id': u'73'}\n",
      "Data indexed successfully\n",
      "{u'_type': u'default', u'_seq_no': 596, u'_shards': {u'successful': 1, u'failed': 0, u'total': 1}, u'_index': u'unicorn', u'_version': 3, u'_primary_term': 1, u'result': u'updated', u'_id': u'74'}\n",
      "Data indexed successfully\n",
      "{u'_type': u'default', u'_seq_no': 597, u'_shards': {u'successful': 1, u'failed': 0, u'total': 1}, u'_index': u'unicorn', u'_version': 3, u'_primary_term': 1, u'result': u'updated', u'_id': u'75'}\n",
      "Data indexed successfully\n",
      "{u'_type': u'default', u'_seq_no': 598, u'_shards': {u'successful': 1, u'failed': 0, u'total': 1}, u'_index': u'unicorn', u'_version': 3, u'_primary_term': 1, u'result': u'updated', u'_id': u'76'}\n",
      "Data indexed successfully\n",
      "{u'_type': u'default', u'_seq_no': 599, u'_shards': {u'successful': 1, u'failed': 0, u'total': 1}, u'_index': u'unicorn', u'_version': 3, u'_primary_term': 1, u'result': u'updated', u'_id': u'77'}\n",
      "Data indexed successfully\n",
      "{u'_type': u'default', u'_seq_no': 600, u'_shards': {u'successful': 1, u'failed': 0, u'total': 1}, u'_index': u'unicorn', u'_version': 3, u'_primary_term': 1, u'result': u'updated', u'_id': u'78'}\n",
      "Data indexed successfully\n",
      "{u'_type': u'default', u'_seq_no': 601, u'_shards': {u'successful': 1, u'failed': 0, u'total': 1}, u'_index': u'unicorn', u'_version': 3, u'_primary_term': 1, u'result': u'updated', u'_id': u'79'}\n",
      "Data indexed successfully\n",
      "{u'_type': u'default', u'_seq_no': 602, u'_shards': {u'successful': 1, u'failed': 0, u'total': 1}, u'_index': u'unicorn', u'_version': 3, u'_primary_term': 1, u'result': u'updated', u'_id': u'80'}\n",
      "Data indexed successfully\n",
      "{u'_type': u'default', u'_seq_no': 603, u'_shards': {u'successful': 1, u'failed': 0, u'total': 1}, u'_index': u'unicorn', u'_version': 3, u'_primary_term': 1, u'result': u'updated', u'_id': u'81'}\n",
      "Data indexed successfully\n",
      "{u'_type': u'default', u'_seq_no': 604, u'_shards': {u'successful': 1, u'failed': 0, u'total': 1}, u'_index': u'unicorn', u'_version': 3, u'_primary_term': 1, u'result': u'updated', u'_id': u'82'}\n",
      "Data indexed successfully\n",
      "{u'_type': u'default', u'_seq_no': 605, u'_shards': {u'successful': 1, u'failed': 0, u'total': 1}, u'_index': u'unicorn', u'_version': 3, u'_primary_term': 1, u'result': u'updated', u'_id': u'83'}\n",
      "Data indexed successfully\n",
      "{u'_type': u'default', u'_seq_no': 606, u'_shards': {u'successful': 1, u'failed': 0, u'total': 1}, u'_index': u'unicorn', u'_version': 3, u'_primary_term': 1, u'result': u'updated', u'_id': u'84'}\n",
      "Data indexed successfully\n",
      "{u'_type': u'default', u'_seq_no': 607, u'_shards': {u'successful': 1, u'failed': 0, u'total': 1}, u'_index': u'unicorn', u'_version': 3, u'_primary_term': 1, u'result': u'updated', u'_id': u'85'}\n",
      "Data indexed successfully\n",
      "{u'_type': u'default', u'_seq_no': 608, u'_shards': {u'successful': 1, u'failed': 0, u'total': 1}, u'_index': u'unicorn', u'_version': 3, u'_primary_term': 1, u'result': u'updated', u'_id': u'86'}\n",
      "Data indexed successfully\n",
      "{u'_type': u'default', u'_seq_no': 609, u'_shards': {u'successful': 1, u'failed': 0, u'total': 1}, u'_index': u'unicorn', u'_version': 3, u'_primary_term': 1, u'result': u'updated', u'_id': u'87'}\n",
      "Data indexed successfully\n",
      "{u'_type': u'default', u'_seq_no': 610, u'_shards': {u'successful': 1, u'failed': 0, u'total': 1}, u'_index': u'unicorn', u'_version': 3, u'_primary_term': 1, u'result': u'updated', u'_id': u'88'}\n",
      "Data indexed successfully\n",
      "{u'_type': u'default', u'_seq_no': 611, u'_shards': {u'successful': 1, u'failed': 0, u'total': 1}, u'_index': u'unicorn', u'_version': 3, u'_primary_term': 1, u'result': u'updated', u'_id': u'89'}\n",
      "Data indexed successfully\n",
      "{u'_type': u'default', u'_seq_no': 612, u'_shards': {u'successful': 1, u'failed': 0, u'total': 1}, u'_index': u'unicorn', u'_version': 3, u'_primary_term': 1, u'result': u'updated', u'_id': u'90'}\n",
      "Data indexed successfully\n",
      "{u'_type': u'default', u'_seq_no': 613, u'_shards': {u'successful': 1, u'failed': 0, u'total': 1}, u'_index': u'unicorn', u'_version': 3, u'_primary_term': 1, u'result': u'updated', u'_id': u'91'}\n",
      "Data indexed successfully\n",
      "{u'_type': u'default', u'_seq_no': 614, u'_shards': {u'successful': 1, u'failed': 0, u'total': 1}, u'_index': u'unicorn', u'_version': 3, u'_primary_term': 1, u'result': u'updated', u'_id': u'92'}\n",
      "Data indexed successfully\n",
      "{u'_type': u'default', u'_seq_no': 615, u'_shards': {u'successful': 1, u'failed': 0, u'total': 1}, u'_index': u'unicorn', u'_version': 3, u'_primary_term': 1, u'result': u'updated', u'_id': u'93'}\n",
      "Data indexed successfully\n",
      "{u'_type': u'default', u'_seq_no': 616, u'_shards': {u'successful': 1, u'failed': 0, u'total': 1}, u'_index': u'unicorn', u'_version': 3, u'_primary_term': 1, u'result': u'updated', u'_id': u'94'}\n",
      "Data indexed successfully\n",
      "{u'_type': u'default', u'_seq_no': 617, u'_shards': {u'successful': 1, u'failed': 0, u'total': 1}, u'_index': u'unicorn', u'_version': 3, u'_primary_term': 1, u'result': u'updated', u'_id': u'95'}\n",
      "Data indexed successfully\n",
      "{u'_type': u'default', u'_seq_no': 618, u'_shards': {u'successful': 1, u'failed': 0, u'total': 1}, u'_index': u'unicorn', u'_version': 3, u'_primary_term': 1, u'result': u'updated', u'_id': u'96'}\n",
      "Data indexed successfully\n",
      "{u'_type': u'default', u'_seq_no': 619, u'_shards': {u'successful': 1, u'failed': 0, u'total': 1}, u'_index': u'unicorn', u'_version': 3, u'_primary_term': 1, u'result': u'updated', u'_id': u'97'}\n",
      "Data indexed successfully\n",
      "{u'_type': u'default', u'_seq_no': 620, u'_shards': {u'successful': 1, u'failed': 0, u'total': 1}, u'_index': u'unicorn', u'_version': 3, u'_primary_term': 1, u'result': u'updated', u'_id': u'98'}\n",
      "Data indexed successfully\n",
      "{u'_type': u'default', u'_seq_no': 621, u'_shards': {u'successful': 1, u'failed': 0, u'total': 1}, u'_index': u'unicorn', u'_version': 3, u'_primary_term': 1, u'result': u'updated', u'_id': u'99'}\n",
      "Data indexed successfully\n",
      "{u'_type': u'default', u'_seq_no': 622, u'_shards': {u'successful': 1, u'failed': 0, u'total': 1}, u'_index': u'unicorn', u'_version': 3, u'_primary_term': 1, u'result': u'updated', u'_id': u'100'}\n",
      "Data indexed successfully\n",
      "{u'_type': u'default', u'_seq_no': 623, u'_shards': {u'successful': 1, u'failed': 0, u'total': 1}, u'_index': u'unicorn', u'_version': 3, u'_primary_term': 1, u'result': u'updated', u'_id': u'101'}\n",
      "Data indexed successfully\n",
      "{u'_type': u'default', u'_seq_no': 624, u'_shards': {u'successful': 1, u'failed': 0, u'total': 1}, u'_index': u'unicorn', u'_version': 3, u'_primary_term': 1, u'result': u'updated', u'_id': u'102'}\n",
      "Data indexed successfully\n",
      "{u'_type': u'default', u'_seq_no': 625, u'_shards': {u'successful': 1, u'failed': 0, u'total': 1}, u'_index': u'unicorn', u'_version': 3, u'_primary_term': 1, u'result': u'updated', u'_id': u'103'}\n",
      "Data indexed successfully\n",
      "{u'_type': u'default', u'_seq_no': 626, u'_shards': {u'successful': 1, u'failed': 0, u'total': 1}, u'_index': u'unicorn', u'_version': 3, u'_primary_term': 1, u'result': u'updated', u'_id': u'104'}\n",
      "Data indexed successfully\n",
      "{u'_type': u'default', u'_seq_no': 627, u'_shards': {u'successful': 1, u'failed': 0, u'total': 1}, u'_index': u'unicorn', u'_version': 3, u'_primary_term': 1, u'result': u'updated', u'_id': u'105'}\n",
      "Data indexed successfully\n",
      "{u'_type': u'default', u'_seq_no': 628, u'_shards': {u'successful': 1, u'failed': 0, u'total': 1}, u'_index': u'unicorn', u'_version': 3, u'_primary_term': 1, u'result': u'updated', u'_id': u'106'}\n",
      "Data indexed successfully\n",
      "{u'_type': u'default', u'_seq_no': 629, u'_shards': {u'successful': 1, u'failed': 0, u'total': 1}, u'_index': u'unicorn', u'_version': 3, u'_primary_term': 1, u'result': u'updated', u'_id': u'107'}\n",
      "Data indexed successfully\n",
      "{u'_type': u'default', u'_seq_no': 630, u'_shards': {u'successful': 1, u'failed': 0, u'total': 1}, u'_index': u'unicorn', u'_version': 3, u'_primary_term': 1, u'result': u'updated', u'_id': u'108'}\n",
      "Data indexed successfully\n",
      "{u'_type': u'default', u'_seq_no': 631, u'_shards': {u'successful': 1, u'failed': 0, u'total': 1}, u'_index': u'unicorn', u'_version': 3, u'_primary_term': 1, u'result': u'updated', u'_id': u'109'}\n",
      "Data indexed successfully\n",
      "{u'_type': u'default', u'_seq_no': 632, u'_shards': {u'successful': 1, u'failed': 0, u'total': 1}, u'_index': u'unicorn', u'_version': 3, u'_primary_term': 1, u'result': u'updated', u'_id': u'110'}\n",
      "Data indexed successfully\n",
      "{u'_type': u'default', u'_seq_no': 633, u'_shards': {u'successful': 1, u'failed': 0, u'total': 1}, u'_index': u'unicorn', u'_version': 3, u'_primary_term': 1, u'result': u'updated', u'_id': u'111'}\n",
      "Data indexed successfully\n",
      "{u'_type': u'default', u'_seq_no': 634, u'_shards': {u'successful': 1, u'failed': 0, u'total': 1}, u'_index': u'unicorn', u'_version': 3, u'_primary_term': 1, u'result': u'updated', u'_id': u'112'}\n",
      "Data indexed successfully\n",
      "{u'_type': u'default', u'_seq_no': 635, u'_shards': {u'successful': 1, u'failed': 0, u'total': 1}, u'_index': u'unicorn', u'_version': 3, u'_primary_term': 1, u'result': u'updated', u'_id': u'113'}\n",
      "Data indexed successfully\n",
      "{u'_type': u'default', u'_seq_no': 636, u'_shards': {u'successful': 1, u'failed': 0, u'total': 1}, u'_index': u'unicorn', u'_version': 3, u'_primary_term': 1, u'result': u'updated', u'_id': u'114'}\n",
      "Data indexed successfully\n",
      "{u'_type': u'default', u'_seq_no': 637, u'_shards': {u'successful': 1, u'failed': 0, u'total': 1}, u'_index': u'unicorn', u'_version': 3, u'_primary_term': 1, u'result': u'updated', u'_id': u'115'}\n",
      "Data indexed successfully\n",
      "{u'_type': u'default', u'_seq_no': 638, u'_shards': {u'successful': 1, u'failed': 0, u'total': 1}, u'_index': u'unicorn', u'_version': 3, u'_primary_term': 1, u'result': u'updated', u'_id': u'116'}\n",
      "Data indexed successfully\n",
      "{u'_type': u'default', u'_seq_no': 639, u'_shards': {u'successful': 1, u'failed': 0, u'total': 1}, u'_index': u'unicorn', u'_version': 3, u'_primary_term': 1, u'result': u'updated', u'_id': u'117'}\n",
      "Data indexed successfully\n",
      "{u'_type': u'default', u'_seq_no': 640, u'_shards': {u'successful': 1, u'failed': 0, u'total': 1}, u'_index': u'unicorn', u'_version': 3, u'_primary_term': 1, u'result': u'updated', u'_id': u'118'}\n",
      "Data indexed successfully\n",
      "{u'_type': u'default', u'_seq_no': 641, u'_shards': {u'successful': 1, u'failed': 0, u'total': 1}, u'_index': u'unicorn', u'_version': 3, u'_primary_term': 1, u'result': u'updated', u'_id': u'119'}\n",
      "Data indexed successfully\n",
      "{u'_type': u'default', u'_seq_no': 642, u'_shards': {u'successful': 1, u'failed': 0, u'total': 1}, u'_index': u'unicorn', u'_version': 3, u'_primary_term': 1, u'result': u'updated', u'_id': u'120'}\n",
      "Data indexed successfully\n",
      "{u'_type': u'default', u'_seq_no': 643, u'_shards': {u'successful': 1, u'failed': 0, u'total': 1}, u'_index': u'unicorn', u'_version': 3, u'_primary_term': 1, u'result': u'updated', u'_id': u'121'}\n",
      "Data indexed successfully\n",
      "{u'_type': u'default', u'_seq_no': 644, u'_shards': {u'successful': 1, u'failed': 0, u'total': 1}, u'_index': u'unicorn', u'_version': 3, u'_primary_term': 1, u'result': u'updated', u'_id': u'122'}\n",
      "Data indexed successfully\n",
      "{u'_type': u'default', u'_seq_no': 645, u'_shards': {u'successful': 1, u'failed': 0, u'total': 1}, u'_index': u'unicorn', u'_version': 3, u'_primary_term': 1, u'result': u'updated', u'_id': u'123'}\n",
      "Data indexed successfully\n",
      "{u'_type': u'default', u'_seq_no': 646, u'_shards': {u'successful': 1, u'failed': 0, u'total': 1}, u'_index': u'unicorn', u'_version': 3, u'_primary_term': 1, u'result': u'updated', u'_id': u'124'}\n",
      "Data indexed successfully\n",
      "{u'_type': u'default', u'_seq_no': 647, u'_shards': {u'successful': 1, u'failed': 0, u'total': 1}, u'_index': u'unicorn', u'_version': 3, u'_primary_term': 1, u'result': u'updated', u'_id': u'125'}\n",
      "Data indexed successfully\n",
      "{u'_type': u'default', u'_seq_no': 648, u'_shards': {u'successful': 1, u'failed': 0, u'total': 1}, u'_index': u'unicorn', u'_version': 3, u'_primary_term': 1, u'result': u'updated', u'_id': u'126'}\n",
      "Data indexed successfully\n",
      "{u'_type': u'default', u'_seq_no': 649, u'_shards': {u'successful': 1, u'failed': 0, u'total': 1}, u'_index': u'unicorn', u'_version': 3, u'_primary_term': 1, u'result': u'updated', u'_id': u'127'}\n",
      "Data indexed successfully\n",
      "{u'_type': u'default', u'_seq_no': 650, u'_shards': {u'successful': 1, u'failed': 0, u'total': 1}, u'_index': u'unicorn', u'_version': 3, u'_primary_term': 1, u'result': u'updated', u'_id': u'128'}\n",
      "Data indexed successfully\n",
      "{u'_type': u'default', u'_seq_no': 651, u'_shards': {u'successful': 1, u'failed': 0, u'total': 1}, u'_index': u'unicorn', u'_version': 3, u'_primary_term': 1, u'result': u'updated', u'_id': u'129'}\n",
      "Data indexed successfully\n",
      "{u'_type': u'default', u'_seq_no': 652, u'_shards': {u'successful': 1, u'failed': 0, u'total': 1}, u'_index': u'unicorn', u'_version': 3, u'_primary_term': 1, u'result': u'updated', u'_id': u'130'}\n",
      "Data indexed successfully\n",
      "{u'_type': u'default', u'_seq_no': 653, u'_shards': {u'successful': 1, u'failed': 0, u'total': 1}, u'_index': u'unicorn', u'_version': 3, u'_primary_term': 1, u'result': u'updated', u'_id': u'131'}\n",
      "Data indexed successfully\n",
      "{u'_type': u'default', u'_seq_no': 654, u'_shards': {u'successful': 1, u'failed': 0, u'total': 1}, u'_index': u'unicorn', u'_version': 3, u'_primary_term': 1, u'result': u'updated', u'_id': u'132'}\n",
      "Data indexed successfully\n",
      "{u'_type': u'default', u'_seq_no': 655, u'_shards': {u'successful': 1, u'failed': 0, u'total': 1}, u'_index': u'unicorn', u'_version': 3, u'_primary_term': 1, u'result': u'updated', u'_id': u'133'}\n",
      "Data indexed successfully\n",
      "{u'_type': u'default', u'_seq_no': 656, u'_shards': {u'successful': 1, u'failed': 0, u'total': 1}, u'_index': u'unicorn', u'_version': 3, u'_primary_term': 1, u'result': u'updated', u'_id': u'134'}\n",
      "Data indexed successfully\n",
      "{u'_type': u'default', u'_seq_no': 657, u'_shards': {u'successful': 1, u'failed': 0, u'total': 1}, u'_index': u'unicorn', u'_version': 3, u'_primary_term': 1, u'result': u'updated', u'_id': u'135'}\n",
      "Data indexed successfully\n",
      "{u'_type': u'default', u'_seq_no': 658, u'_shards': {u'successful': 1, u'failed': 0, u'total': 1}, u'_index': u'unicorn', u'_version': 3, u'_primary_term': 1, u'result': u'updated', u'_id': u'136'}\n",
      "Data indexed successfully\n",
      "{u'_type': u'default', u'_seq_no': 659, u'_shards': {u'successful': 1, u'failed': 0, u'total': 1}, u'_index': u'unicorn', u'_version': 3, u'_primary_term': 1, u'result': u'updated', u'_id': u'137'}\n",
      "Data indexed successfully\n",
      "{u'_type': u'default', u'_seq_no': 660, u'_shards': {u'successful': 1, u'failed': 0, u'total': 1}, u'_index': u'unicorn', u'_version': 3, u'_primary_term': 1, u'result': u'updated', u'_id': u'138'}\n",
      "Data indexed successfully\n",
      "{u'_type': u'default', u'_seq_no': 661, u'_shards': {u'successful': 1, u'failed': 0, u'total': 1}, u'_index': u'unicorn', u'_version': 3, u'_primary_term': 1, u'result': u'updated', u'_id': u'139'}\n",
      "Data indexed successfully\n",
      "{u'_type': u'default', u'_seq_no': 662, u'_shards': {u'successful': 1, u'failed': 0, u'total': 1}, u'_index': u'unicorn', u'_version': 3, u'_primary_term': 1, u'result': u'updated', u'_id': u'140'}\n",
      "Data indexed successfully\n",
      "{u'_type': u'default', u'_seq_no': 663, u'_shards': {u'successful': 1, u'failed': 0, u'total': 1}, u'_index': u'unicorn', u'_version': 3, u'_primary_term': 1, u'result': u'updated', u'_id': u'141'}\n",
      "Data indexed successfully\n",
      "{u'_type': u'default', u'_seq_no': 664, u'_shards': {u'successful': 1, u'failed': 0, u'total': 1}, u'_index': u'unicorn', u'_version': 3, u'_primary_term': 1, u'result': u'updated', u'_id': u'142'}\n",
      "Data indexed successfully\n",
      "{u'_type': u'default', u'_seq_no': 665, u'_shards': {u'successful': 1, u'failed': 0, u'total': 1}, u'_index': u'unicorn', u'_version': 3, u'_primary_term': 1, u'result': u'updated', u'_id': u'143'}\n",
      "Data indexed successfully\n",
      "{u'_type': u'default', u'_seq_no': 666, u'_shards': {u'successful': 1, u'failed': 0, u'total': 1}, u'_index': u'unicorn', u'_version': 3, u'_primary_term': 1, u'result': u'updated', u'_id': u'144'}\n",
      "Data indexed successfully\n",
      "{u'_type': u'default', u'_seq_no': 667, u'_shards': {u'successful': 1, u'failed': 0, u'total': 1}, u'_index': u'unicorn', u'_version': 3, u'_primary_term': 1, u'result': u'updated', u'_id': u'145'}\n",
      "Data indexed successfully\n",
      "{u'_type': u'default', u'_seq_no': 668, u'_shards': {u'successful': 1, u'failed': 0, u'total': 1}, u'_index': u'unicorn', u'_version': 3, u'_primary_term': 1, u'result': u'updated', u'_id': u'146'}\n",
      "Data indexed successfully\n",
      "{u'_type': u'default', u'_seq_no': 669, u'_shards': {u'successful': 1, u'failed': 0, u'total': 1}, u'_index': u'unicorn', u'_version': 3, u'_primary_term': 1, u'result': u'updated', u'_id': u'147'}\n",
      "Data indexed successfully\n",
      "{u'_type': u'default', u'_seq_no': 670, u'_shards': {u'successful': 1, u'failed': 0, u'total': 1}, u'_index': u'unicorn', u'_version': 3, u'_primary_term': 1, u'result': u'updated', u'_id': u'148'}\n",
      "Data indexed successfully\n",
      "{u'_type': u'default', u'_seq_no': 671, u'_shards': {u'successful': 1, u'failed': 0, u'total': 1}, u'_index': u'unicorn', u'_version': 3, u'_primary_term': 1, u'result': u'updated', u'_id': u'149'}\n",
      "Data indexed successfully\n",
      "{u'_type': u'default', u'_seq_no': 672, u'_shards': {u'successful': 1, u'failed': 0, u'total': 1}, u'_index': u'unicorn', u'_version': 3, u'_primary_term': 1, u'result': u'updated', u'_id': u'150'}\n",
      "Data indexed successfully\n",
      "{u'_type': u'default', u'_seq_no': 673, u'_shards': {u'successful': 1, u'failed': 0, u'total': 1}, u'_index': u'unicorn', u'_version': 3, u'_primary_term': 1, u'result': u'updated', u'_id': u'151'}\n",
      "Data indexed successfully\n",
      "{u'_type': u'default', u'_seq_no': 674, u'_shards': {u'successful': 1, u'failed': 0, u'total': 1}, u'_index': u'unicorn', u'_version': 3, u'_primary_term': 1, u'result': u'updated', u'_id': u'152'}\n",
      "Data indexed successfully\n",
      "{u'_type': u'default', u'_seq_no': 675, u'_shards': {u'successful': 1, u'failed': 0, u'total': 1}, u'_index': u'unicorn', u'_version': 3, u'_primary_term': 1, u'result': u'updated', u'_id': u'153'}\n",
      "Data indexed successfully\n",
      "{u'_type': u'default', u'_seq_no': 676, u'_shards': {u'successful': 1, u'failed': 0, u'total': 1}, u'_index': u'unicorn', u'_version': 3, u'_primary_term': 1, u'result': u'updated', u'_id': u'154'}\n",
      "Data indexed successfully\n",
      "{u'_type': u'default', u'_seq_no': 677, u'_shards': {u'successful': 1, u'failed': 0, u'total': 1}, u'_index': u'unicorn', u'_version': 3, u'_primary_term': 1, u'result': u'updated', u'_id': u'155'}\n",
      "Data indexed successfully\n",
      "{u'_type': u'default', u'_seq_no': 678, u'_shards': {u'successful': 1, u'failed': 0, u'total': 1}, u'_index': u'unicorn', u'_version': 3, u'_primary_term': 1, u'result': u'updated', u'_id': u'156'}\n",
      "Data indexed successfully\n",
      "{u'_type': u'default', u'_seq_no': 679, u'_shards': {u'successful': 1, u'failed': 0, u'total': 1}, u'_index': u'unicorn', u'_version': 3, u'_primary_term': 1, u'result': u'updated', u'_id': u'157'}\n",
      "Data indexed successfully\n",
      "{u'_type': u'default', u'_seq_no': 680, u'_shards': {u'successful': 1, u'failed': 0, u'total': 1}, u'_index': u'unicorn', u'_version': 3, u'_primary_term': 1, u'result': u'updated', u'_id': u'158'}\n",
      "Data indexed successfully\n",
      "{u'_type': u'default', u'_seq_no': 681, u'_shards': {u'successful': 1, u'failed': 0, u'total': 1}, u'_index': u'unicorn', u'_version': 3, u'_primary_term': 1, u'result': u'updated', u'_id': u'159'}\n",
      "Data indexed successfully\n",
      "{u'_type': u'default', u'_seq_no': 682, u'_shards': {u'successful': 1, u'failed': 0, u'total': 1}, u'_index': u'unicorn', u'_version': 3, u'_primary_term': 1, u'result': u'updated', u'_id': u'160'}\n",
      "Data indexed successfully\n",
      "{u'_type': u'default', u'_seq_no': 683, u'_shards': {u'successful': 1, u'failed': 0, u'total': 1}, u'_index': u'unicorn', u'_version': 3, u'_primary_term': 1, u'result': u'updated', u'_id': u'161'}\n",
      "Data indexed successfully\n",
      "{u'_type': u'default', u'_seq_no': 684, u'_shards': {u'successful': 1, u'failed': 0, u'total': 1}, u'_index': u'unicorn', u'_version': 3, u'_primary_term': 1, u'result': u'updated', u'_id': u'162'}\n",
      "Data indexed successfully\n",
      "{u'_type': u'default', u'_seq_no': 685, u'_shards': {u'successful': 1, u'failed': 0, u'total': 1}, u'_index': u'unicorn', u'_version': 3, u'_primary_term': 1, u'result': u'updated', u'_id': u'163'}\n",
      "Data indexed successfully\n",
      "{u'_type': u'default', u'_seq_no': 686, u'_shards': {u'successful': 1, u'failed': 0, u'total': 1}, u'_index': u'unicorn', u'_version': 3, u'_primary_term': 1, u'result': u'updated', u'_id': u'164'}\n",
      "Data indexed successfully\n",
      "{u'_type': u'default', u'_seq_no': 687, u'_shards': {u'successful': 1, u'failed': 0, u'total': 1}, u'_index': u'unicorn', u'_version': 3, u'_primary_term': 1, u'result': u'updated', u'_id': u'165'}\n",
      "Data indexed successfully\n",
      "{u'_type': u'default', u'_seq_no': 688, u'_shards': {u'successful': 1, u'failed': 0, u'total': 1}, u'_index': u'unicorn', u'_version': 3, u'_primary_term': 1, u'result': u'updated', u'_id': u'166'}\n",
      "Data indexed successfully\n",
      "{u'_type': u'default', u'_seq_no': 689, u'_shards': {u'successful': 1, u'failed': 0, u'total': 1}, u'_index': u'unicorn', u'_version': 3, u'_primary_term': 1, u'result': u'updated', u'_id': u'167'}\n",
      "Data indexed successfully\n",
      "{u'_type': u'default', u'_seq_no': 690, u'_shards': {u'successful': 1, u'failed': 0, u'total': 1}, u'_index': u'unicorn', u'_version': 3, u'_primary_term': 1, u'result': u'updated', u'_id': u'168'}\n",
      "Data indexed successfully\n",
      "{u'_type': u'default', u'_seq_no': 691, u'_shards': {u'successful': 1, u'failed': 0, u'total': 1}, u'_index': u'unicorn', u'_version': 3, u'_primary_term': 1, u'result': u'updated', u'_id': u'169'}\n",
      "Data indexed successfully\n",
      "{u'_type': u'default', u'_seq_no': 692, u'_shards': {u'successful': 1, u'failed': 0, u'total': 1}, u'_index': u'unicorn', u'_version': 3, u'_primary_term': 1, u'result': u'updated', u'_id': u'170'}\n",
      "Data indexed successfully\n",
      "{u'_type': u'default', u'_seq_no': 693, u'_shards': {u'successful': 1, u'failed': 0, u'total': 1}, u'_index': u'unicorn', u'_version': 3, u'_primary_term': 1, u'result': u'updated', u'_id': u'171'}\n",
      "Data indexed successfully\n",
      "{u'_type': u'default', u'_seq_no': 694, u'_shards': {u'successful': 1, u'failed': 0, u'total': 1}, u'_index': u'unicorn', u'_version': 3, u'_primary_term': 1, u'result': u'updated', u'_id': u'172'}\n",
      "Data indexed successfully\n",
      "{u'_type': u'default', u'_seq_no': 695, u'_shards': {u'successful': 1, u'failed': 0, u'total': 1}, u'_index': u'unicorn', u'_version': 3, u'_primary_term': 1, u'result': u'updated', u'_id': u'173'}\n",
      "Data indexed successfully\n",
      "{u'_type': u'default', u'_seq_no': 696, u'_shards': {u'successful': 1, u'failed': 0, u'total': 1}, u'_index': u'unicorn', u'_version': 3, u'_primary_term': 1, u'result': u'updated', u'_id': u'174'}\n",
      "Data indexed successfully\n",
      "{u'_type': u'default', u'_seq_no': 697, u'_shards': {u'successful': 1, u'failed': 0, u'total': 1}, u'_index': u'unicorn', u'_version': 3, u'_primary_term': 1, u'result': u'updated', u'_id': u'175'}\n",
      "Data indexed successfully\n",
      "{u'_type': u'default', u'_seq_no': 698, u'_shards': {u'successful': 1, u'failed': 0, u'total': 1}, u'_index': u'unicorn', u'_version': 3, u'_primary_term': 1, u'result': u'updated', u'_id': u'176'}\n",
      "Data indexed successfully\n",
      "{u'_type': u'default', u'_seq_no': 699, u'_shards': {u'successful': 1, u'failed': 0, u'total': 1}, u'_index': u'unicorn', u'_version': 3, u'_primary_term': 1, u'result': u'updated', u'_id': u'177'}\n",
      "Data indexed successfully\n",
      "{u'_type': u'default', u'_seq_no': 700, u'_shards': {u'successful': 1, u'failed': 0, u'total': 1}, u'_index': u'unicorn', u'_version': 3, u'_primary_term': 1, u'result': u'updated', u'_id': u'178'}\n",
      "Data indexed successfully\n",
      "{u'_type': u'default', u'_seq_no': 701, u'_shards': {u'successful': 1, u'failed': 0, u'total': 1}, u'_index': u'unicorn', u'_version': 3, u'_primary_term': 1, u'result': u'updated', u'_id': u'179'}\n",
      "Data indexed successfully\n",
      "{u'_type': u'default', u'_seq_no': 702, u'_shards': {u'successful': 1, u'failed': 0, u'total': 1}, u'_index': u'unicorn', u'_version': 3, u'_primary_term': 1, u'result': u'updated', u'_id': u'180'}\n",
      "Data indexed successfully\n",
      "{u'_type': u'default', u'_seq_no': 703, u'_shards': {u'successful': 1, u'failed': 0, u'total': 1}, u'_index': u'unicorn', u'_version': 3, u'_primary_term': 1, u'result': u'updated', u'_id': u'181'}\n",
      "Data indexed successfully\n",
      "{u'_type': u'default', u'_seq_no': 704, u'_shards': {u'successful': 1, u'failed': 0, u'total': 1}, u'_index': u'unicorn', u'_version': 3, u'_primary_term': 1, u'result': u'updated', u'_id': u'182'}\n",
      "Data indexed successfully\n",
      "{u'_type': u'default', u'_seq_no': 705, u'_shards': {u'successful': 1, u'failed': 0, u'total': 1}, u'_index': u'unicorn', u'_version': 3, u'_primary_term': 1, u'result': u'updated', u'_id': u'183'}\n",
      "Data indexed successfully\n",
      "{u'_type': u'default', u'_seq_no': 706, u'_shards': {u'successful': 1, u'failed': 0, u'total': 1}, u'_index': u'unicorn', u'_version': 3, u'_primary_term': 1, u'result': u'updated', u'_id': u'184'}\n",
      "Data indexed successfully\n",
      "{u'_type': u'default', u'_seq_no': 707, u'_shards': {u'successful': 1, u'failed': 0, u'total': 1}, u'_index': u'unicorn', u'_version': 3, u'_primary_term': 1, u'result': u'updated', u'_id': u'185'}\n",
      "Data indexed successfully\n",
      "{u'_type': u'default', u'_seq_no': 708, u'_shards': {u'successful': 1, u'failed': 0, u'total': 1}, u'_index': u'unicorn', u'_version': 3, u'_primary_term': 1, u'result': u'updated', u'_id': u'186'}\n",
      "Data indexed successfully\n",
      "{u'_type': u'default', u'_seq_no': 709, u'_shards': {u'successful': 1, u'failed': 0, u'total': 1}, u'_index': u'unicorn', u'_version': 3, u'_primary_term': 1, u'result': u'updated', u'_id': u'187'}\n",
      "Data indexed successfully\n",
      "{u'_type': u'default', u'_seq_no': 710, u'_shards': {u'successful': 1, u'failed': 0, u'total': 1}, u'_index': u'unicorn', u'_version': 3, u'_primary_term': 1, u'result': u'updated', u'_id': u'188'}\n",
      "Data indexed successfully\n",
      "{u'_type': u'default', u'_seq_no': 711, u'_shards': {u'successful': 1, u'failed': 0, u'total': 1}, u'_index': u'unicorn', u'_version': 3, u'_primary_term': 1, u'result': u'updated', u'_id': u'189'}\n",
      "Data indexed successfully\n",
      "{u'_type': u'default', u'_seq_no': 712, u'_shards': {u'successful': 1, u'failed': 0, u'total': 1}, u'_index': u'unicorn', u'_version': 3, u'_primary_term': 1, u'result': u'updated', u'_id': u'190'}\n",
      "Data indexed successfully\n",
      "{u'_type': u'default', u'_seq_no': 713, u'_shards': {u'successful': 1, u'failed': 0, u'total': 1}, u'_index': u'unicorn', u'_version': 3, u'_primary_term': 1, u'result': u'updated', u'_id': u'191'}\n",
      "Data indexed successfully\n",
      "{u'_type': u'default', u'_seq_no': 714, u'_shards': {u'successful': 1, u'failed': 0, u'total': 1}, u'_index': u'unicorn', u'_version': 3, u'_primary_term': 1, u'result': u'updated', u'_id': u'192'}\n",
      "Data indexed successfully\n",
      "{u'_type': u'default', u'_seq_no': 715, u'_shards': {u'successful': 1, u'failed': 0, u'total': 1}, u'_index': u'unicorn', u'_version': 3, u'_primary_term': 1, u'result': u'updated', u'_id': u'193'}\n",
      "Data indexed successfully\n",
      "{u'_type': u'default', u'_seq_no': 716, u'_shards': {u'successful': 1, u'failed': 0, u'total': 1}, u'_index': u'unicorn', u'_version': 3, u'_primary_term': 1, u'result': u'updated', u'_id': u'194'}\n",
      "Data indexed successfully\n",
      "{u'_type': u'default', u'_seq_no': 717, u'_shards': {u'successful': 1, u'failed': 0, u'total': 1}, u'_index': u'unicorn', u'_version': 3, u'_primary_term': 1, u'result': u'updated', u'_id': u'195'}\n",
      "Data indexed successfully\n",
      "{u'_type': u'default', u'_seq_no': 718, u'_shards': {u'successful': 1, u'failed': 0, u'total': 1}, u'_index': u'unicorn', u'_version': 3, u'_primary_term': 1, u'result': u'updated', u'_id': u'196'}\n",
      "Data indexed successfully\n",
      "{u'_type': u'default', u'_seq_no': 719, u'_shards': {u'successful': 1, u'failed': 0, u'total': 1}, u'_index': u'unicorn', u'_version': 3, u'_primary_term': 1, u'result': u'updated', u'_id': u'197'}\n",
      "Data indexed successfully\n",
      "{u'_type': u'default', u'_seq_no': 720, u'_shards': {u'successful': 1, u'failed': 0, u'total': 1}, u'_index': u'unicorn', u'_version': 3, u'_primary_term': 1, u'result': u'updated', u'_id': u'198'}\n",
      "Data indexed successfully\n",
      "{u'_type': u'default', u'_seq_no': 721, u'_shards': {u'successful': 1, u'failed': 0, u'total': 1}, u'_index': u'unicorn', u'_version': 3, u'_primary_term': 1, u'result': u'updated', u'_id': u'199'}\n",
      "Data indexed successfully\n",
      "{u'_type': u'default', u'_seq_no': 722, u'_shards': {u'successful': 1, u'failed': 0, u'total': 1}, u'_index': u'unicorn', u'_version': 3, u'_primary_term': 1, u'result': u'updated', u'_id': u'200'}\n",
      "Data indexed successfully\n",
      "{u'_type': u'default', u'_seq_no': 723, u'_shards': {u'successful': 1, u'failed': 0, u'total': 1}, u'_index': u'unicorn', u'_version': 3, u'_primary_term': 1, u'result': u'updated', u'_id': u'201'}\n",
      "Data indexed successfully\n",
      "{u'_type': u'default', u'_seq_no': 724, u'_shards': {u'successful': 1, u'failed': 0, u'total': 1}, u'_index': u'unicorn', u'_version': 3, u'_primary_term': 1, u'result': u'updated', u'_id': u'202'}\n",
      "Data indexed successfully\n",
      "{u'_type': u'default', u'_seq_no': 725, u'_shards': {u'successful': 1, u'failed': 0, u'total': 1}, u'_index': u'unicorn', u'_version': 3, u'_primary_term': 1, u'result': u'updated', u'_id': u'203'}\n",
      "Data indexed successfully\n",
      "{u'_type': u'default', u'_seq_no': 726, u'_shards': {u'successful': 1, u'failed': 0, u'total': 1}, u'_index': u'unicorn', u'_version': 3, u'_primary_term': 1, u'result': u'updated', u'_id': u'204'}\n",
      "Data indexed successfully\n",
      "{u'_type': u'default', u'_seq_no': 727, u'_shards': {u'successful': 1, u'failed': 0, u'total': 1}, u'_index': u'unicorn', u'_version': 3, u'_primary_term': 1, u'result': u'updated', u'_id': u'205'}\n",
      "Data indexed successfully\n",
      "{u'_type': u'default', u'_seq_no': 728, u'_shards': {u'successful': 1, u'failed': 0, u'total': 1}, u'_index': u'unicorn', u'_version': 3, u'_primary_term': 1, u'result': u'updated', u'_id': u'206'}\n",
      "Data indexed successfully\n",
      "{u'_type': u'default', u'_seq_no': 729, u'_shards': {u'successful': 1, u'failed': 0, u'total': 1}, u'_index': u'unicorn', u'_version': 3, u'_primary_term': 1, u'result': u'updated', u'_id': u'207'}\n",
      "Data indexed successfully\n",
      "{u'_type': u'default', u'_seq_no': 730, u'_shards': {u'successful': 1, u'failed': 0, u'total': 1}, u'_index': u'unicorn', u'_version': 3, u'_primary_term': 1, u'result': u'updated', u'_id': u'208'}\n",
      "Data indexed successfully\n",
      "{u'_type': u'default', u'_seq_no': 731, u'_shards': {u'successful': 1, u'failed': 0, u'total': 1}, u'_index': u'unicorn', u'_version': 3, u'_primary_term': 1, u'result': u'updated', u'_id': u'209'}\n",
      "Data indexed successfully\n",
      "{u'_type': u'default', u'_seq_no': 732, u'_shards': {u'successful': 1, u'failed': 0, u'total': 1}, u'_index': u'unicorn', u'_version': 3, u'_primary_term': 1, u'result': u'updated', u'_id': u'210'}\n",
      "Data indexed successfully\n",
      "{u'_type': u'default', u'_seq_no': 733, u'_shards': {u'successful': 1, u'failed': 0, u'total': 1}, u'_index': u'unicorn', u'_version': 3, u'_primary_term': 1, u'result': u'updated', u'_id': u'211'}\n",
      "Data indexed successfully\n",
      "{u'_type': u'default', u'_seq_no': 734, u'_shards': {u'successful': 1, u'failed': 0, u'total': 1}, u'_index': u'unicorn', u'_version': 3, u'_primary_term': 1, u'result': u'updated', u'_id': u'212'}\n",
      "Data indexed successfully\n",
      "{u'_type': u'default', u'_seq_no': 735, u'_shards': {u'successful': 1, u'failed': 0, u'total': 1}, u'_index': u'unicorn', u'_version': 3, u'_primary_term': 1, u'result': u'updated', u'_id': u'213'}\n",
      "Data indexed successfully\n",
      "{u'_type': u'default', u'_seq_no': 736, u'_shards': {u'successful': 1, u'failed': 0, u'total': 1}, u'_index': u'unicorn', u'_version': 3, u'_primary_term': 1, u'result': u'updated', u'_id': u'214'}\n",
      "Data indexed successfully\n",
      "{u'_type': u'default', u'_seq_no': 737, u'_shards': {u'successful': 1, u'failed': 0, u'total': 1}, u'_index': u'unicorn', u'_version': 3, u'_primary_term': 1, u'result': u'updated', u'_id': u'215'}\n",
      "Data indexed successfully\n",
      "{u'_type': u'default', u'_seq_no': 738, u'_shards': {u'successful': 1, u'failed': 0, u'total': 1}, u'_index': u'unicorn', u'_version': 3, u'_primary_term': 1, u'result': u'updated', u'_id': u'216'}\n",
      "Data indexed successfully\n",
      "{u'_type': u'default', u'_seq_no': 739, u'_shards': {u'successful': 1, u'failed': 0, u'total': 1}, u'_index': u'unicorn', u'_version': 3, u'_primary_term': 1, u'result': u'updated', u'_id': u'217'}\n",
      "Data indexed successfully\n",
      "{u'_type': u'default', u'_seq_no': 740, u'_shards': {u'successful': 1, u'failed': 0, u'total': 1}, u'_index': u'unicorn', u'_version': 3, u'_primary_term': 1, u'result': u'updated', u'_id': u'218'}\n",
      "Data indexed successfully\n",
      "{u'_type': u'default', u'_seq_no': 741, u'_shards': {u'successful': 1, u'failed': 0, u'total': 1}, u'_index': u'unicorn', u'_version': 3, u'_primary_term': 1, u'result': u'updated', u'_id': u'219'}\n",
      "Data indexed successfully\n",
      "{u'_type': u'default', u'_seq_no': 742, u'_shards': {u'successful': 1, u'failed': 0, u'total': 1}, u'_index': u'unicorn', u'_version': 3, u'_primary_term': 1, u'result': u'updated', u'_id': u'220'}\n",
      "Data indexed successfully\n",
      "{u'_type': u'default', u'_seq_no': 743, u'_shards': {u'successful': 1, u'failed': 0, u'total': 1}, u'_index': u'unicorn', u'_version': 3, u'_primary_term': 1, u'result': u'updated', u'_id': u'221'}\n",
      "Data indexed successfully\n",
      "{u'_type': u'default', u'_seq_no': 744, u'_shards': {u'successful': 1, u'failed': 0, u'total': 1}, u'_index': u'unicorn', u'_version': 3, u'_primary_term': 1, u'result': u'updated', u'_id': u'222'}\n",
      "Data indexed successfully\n",
      "{u'_type': u'default', u'_seq_no': 745, u'_shards': {u'successful': 1, u'failed': 0, u'total': 1}, u'_index': u'unicorn', u'_version': 3, u'_primary_term': 1, u'result': u'updated', u'_id': u'223'}\n",
      "Data indexed successfully\n",
      "{u'_type': u'default', u'_seq_no': 746, u'_shards': {u'successful': 1, u'failed': 0, u'total': 1}, u'_index': u'unicorn', u'_version': 3, u'_primary_term': 1, u'result': u'updated', u'_id': u'224'}\n",
      "Data indexed successfully\n",
      "{u'_type': u'default', u'_seq_no': 747, u'_shards': {u'successful': 1, u'failed': 0, u'total': 1}, u'_index': u'unicorn', u'_version': 3, u'_primary_term': 1, u'result': u'updated', u'_id': u'225'}\n",
      "Data indexed successfully\n",
      "{u'_type': u'default', u'_seq_no': 748, u'_shards': {u'successful': 1, u'failed': 0, u'total': 1}, u'_index': u'unicorn', u'_version': 3, u'_primary_term': 1, u'result': u'updated', u'_id': u'226'}\n",
      "Data indexed successfully\n",
      "{u'_type': u'default', u'_seq_no': 749, u'_shards': {u'successful': 1, u'failed': 0, u'total': 1}, u'_index': u'unicorn', u'_version': 3, u'_primary_term': 1, u'result': u'updated', u'_id': u'227'}\n",
      "Data indexed successfully\n",
      "{u'_type': u'default', u'_seq_no': 750, u'_shards': {u'successful': 1, u'failed': 0, u'total': 1}, u'_index': u'unicorn', u'_version': 3, u'_primary_term': 1, u'result': u'updated', u'_id': u'228'}\n",
      "Data indexed successfully\n",
      "{u'_type': u'default', u'_seq_no': 751, u'_shards': {u'successful': 1, u'failed': 0, u'total': 1}, u'_index': u'unicorn', u'_version': 3, u'_primary_term': 1, u'result': u'updated', u'_id': u'229'}\n",
      "Data indexed successfully\n",
      "{u'_type': u'default', u'_seq_no': 752, u'_shards': {u'successful': 1, u'failed': 0, u'total': 1}, u'_index': u'unicorn', u'_version': 3, u'_primary_term': 1, u'result': u'updated', u'_id': u'230'}\n",
      "Data indexed successfully\n",
      "{u'_type': u'default', u'_seq_no': 753, u'_shards': {u'successful': 1, u'failed': 0, u'total': 1}, u'_index': u'unicorn', u'_version': 3, u'_primary_term': 1, u'result': u'updated', u'_id': u'231'}\n",
      "Data indexed successfully\n",
      "{u'_type': u'default', u'_seq_no': 754, u'_shards': {u'successful': 1, u'failed': 0, u'total': 1}, u'_index': u'unicorn', u'_version': 3, u'_primary_term': 1, u'result': u'updated', u'_id': u'232'}\n",
      "Data indexed successfully\n",
      "{u'_type': u'default', u'_seq_no': 755, u'_shards': {u'successful': 1, u'failed': 0, u'total': 1}, u'_index': u'unicorn', u'_version': 3, u'_primary_term': 1, u'result': u'updated', u'_id': u'233'}\n",
      "Data indexed successfully\n",
      "{u'_type': u'default', u'_seq_no': 756, u'_shards': {u'successful': 1, u'failed': 0, u'total': 1}, u'_index': u'unicorn', u'_version': 3, u'_primary_term': 1, u'result': u'updated', u'_id': u'234'}\n",
      "Data indexed successfully\n",
      "{u'_type': u'default', u'_seq_no': 757, u'_shards': {u'successful': 1, u'failed': 0, u'total': 1}, u'_index': u'unicorn', u'_version': 3, u'_primary_term': 1, u'result': u'updated', u'_id': u'235'}\n",
      "Data indexed successfully\n",
      "{u'_type': u'default', u'_seq_no': 758, u'_shards': {u'successful': 1, u'failed': 0, u'total': 1}, u'_index': u'unicorn', u'_version': 3, u'_primary_term': 1, u'result': u'updated', u'_id': u'236'}\n",
      "Data indexed successfully\n",
      "{u'_type': u'default', u'_seq_no': 759, u'_shards': {u'successful': 1, u'failed': 0, u'total': 1}, u'_index': u'unicorn', u'_version': 3, u'_primary_term': 1, u'result': u'updated', u'_id': u'237'}\n",
      "Data indexed successfully\n",
      "{u'_type': u'default', u'_seq_no': 760, u'_shards': {u'successful': 1, u'failed': 0, u'total': 1}, u'_index': u'unicorn', u'_version': 3, u'_primary_term': 1, u'result': u'updated', u'_id': u'238'}\n",
      "Data indexed successfully\n",
      "{u'_type': u'default', u'_seq_no': 761, u'_shards': {u'successful': 1, u'failed': 0, u'total': 1}, u'_index': u'unicorn', u'_version': 3, u'_primary_term': 1, u'result': u'updated', u'_id': u'239'}\n",
      "Data indexed successfully\n",
      "{u'_type': u'default', u'_seq_no': 762, u'_shards': {u'successful': 1, u'failed': 0, u'total': 1}, u'_index': u'unicorn', u'_version': 3, u'_primary_term': 1, u'result': u'updated', u'_id': u'240'}\n",
      "Data indexed successfully\n",
      "{u'_type': u'default', u'_seq_no': 763, u'_shards': {u'successful': 1, u'failed': 0, u'total': 1}, u'_index': u'unicorn', u'_version': 3, u'_primary_term': 1, u'result': u'updated', u'_id': u'241'}\n",
      "Data indexed successfully\n",
      "{u'_type': u'default', u'_seq_no': 764, u'_shards': {u'successful': 1, u'failed': 0, u'total': 1}, u'_index': u'unicorn', u'_version': 3, u'_primary_term': 1, u'result': u'updated', u'_id': u'242'}\n",
      "Data indexed successfully\n",
      "{u'_type': u'default', u'_seq_no': 765, u'_shards': {u'successful': 1, u'failed': 0, u'total': 1}, u'_index': u'unicorn', u'_version': 3, u'_primary_term': 1, u'result': u'updated', u'_id': u'243'}\n",
      "Data indexed successfully\n",
      "{u'_type': u'default', u'_seq_no': 766, u'_shards': {u'successful': 1, u'failed': 0, u'total': 1}, u'_index': u'unicorn', u'_version': 3, u'_primary_term': 1, u'result': u'updated', u'_id': u'244'}\n",
      "Data indexed successfully\n",
      "{u'_type': u'default', u'_seq_no': 767, u'_shards': {u'successful': 1, u'failed': 0, u'total': 1}, u'_index': u'unicorn', u'_version': 3, u'_primary_term': 1, u'result': u'updated', u'_id': u'245'}\n",
      "Data indexed successfully\n",
      "{u'_type': u'default', u'_seq_no': 768, u'_shards': {u'successful': 1, u'failed': 0, u'total': 1}, u'_index': u'unicorn', u'_version': 3, u'_primary_term': 1, u'result': u'updated', u'_id': u'246'}\n",
      "Data indexed successfully\n",
      "{u'_type': u'default', u'_seq_no': 769, u'_shards': {u'successful': 1, u'failed': 0, u'total': 1}, u'_index': u'unicorn', u'_version': 3, u'_primary_term': 1, u'result': u'updated', u'_id': u'247'}\n",
      "Data indexed successfully\n",
      "{u'_type': u'default', u'_seq_no': 770, u'_shards': {u'successful': 1, u'failed': 0, u'total': 1}, u'_index': u'unicorn', u'_version': 3, u'_primary_term': 1, u'result': u'updated', u'_id': u'248'}\n",
      "Data indexed successfully\n",
      "{u'_type': u'default', u'_seq_no': 771, u'_shards': {u'successful': 1, u'failed': 0, u'total': 1}, u'_index': u'unicorn', u'_version': 3, u'_primary_term': 1, u'result': u'updated', u'_id': u'249'}\n",
      "Data indexed successfully\n",
      "{u'_type': u'default', u'_seq_no': 772, u'_shards': {u'successful': 1, u'failed': 0, u'total': 1}, u'_index': u'unicorn', u'_version': 3, u'_primary_term': 1, u'result': u'updated', u'_id': u'250'}\n",
      "Data indexed successfully\n",
      "{u'_type': u'default', u'_seq_no': 773, u'_shards': {u'successful': 1, u'failed': 0, u'total': 1}, u'_index': u'unicorn', u'_version': 3, u'_primary_term': 1, u'result': u'updated', u'_id': u'251'}\n",
      "Data indexed successfully\n",
      "{u'_type': u'default', u'_seq_no': 774, u'_shards': {u'successful': 1, u'failed': 0, u'total': 1}, u'_index': u'unicorn', u'_version': 3, u'_primary_term': 1, u'result': u'updated', u'_id': u'252'}\n",
      "Data indexed successfully\n",
      "{u'_type': u'default', u'_seq_no': 775, u'_shards': {u'successful': 1, u'failed': 0, u'total': 1}, u'_index': u'unicorn', u'_version': 3, u'_primary_term': 1, u'result': u'updated', u'_id': u'253'}\n",
      "Data indexed successfully\n",
      "{u'_type': u'default', u'_seq_no': 776, u'_shards': {u'successful': 1, u'failed': 0, u'total': 1}, u'_index': u'unicorn', u'_version': 3, u'_primary_term': 1, u'result': u'updated', u'_id': u'254'}\n",
      "Data indexed successfully\n",
      "{u'_type': u'default', u'_seq_no': 777, u'_shards': {u'successful': 1, u'failed': 0, u'total': 1}, u'_index': u'unicorn', u'_version': 3, u'_primary_term': 1, u'result': u'updated', u'_id': u'255'}\n",
      "Data indexed successfully\n",
      "{u'_type': u'default', u'_seq_no': 778, u'_shards': {u'successful': 1, u'failed': 0, u'total': 1}, u'_index': u'unicorn', u'_version': 3, u'_primary_term': 1, u'result': u'updated', u'_id': u'256'}\n",
      "Data indexed successfully\n",
      "{u'_type': u'default', u'_seq_no': 779, u'_shards': {u'successful': 1, u'failed': 0, u'total': 1}, u'_index': u'unicorn', u'_version': 3, u'_primary_term': 1, u'result': u'updated', u'_id': u'257'}\n",
      "Data indexed successfully\n",
      "{u'_type': u'default', u'_seq_no': 780, u'_shards': {u'successful': 1, u'failed': 0, u'total': 1}, u'_index': u'unicorn', u'_version': 3, u'_primary_term': 1, u'result': u'updated', u'_id': u'258'}\n",
      "Data indexed successfully\n",
      "{u'_type': u'default', u'_seq_no': 781, u'_shards': {u'successful': 1, u'failed': 0, u'total': 1}, u'_index': u'unicorn', u'_version': 3, u'_primary_term': 1, u'result': u'updated', u'_id': u'259'}\n",
      "Data indexed successfully\n",
      "{u'_type': u'default', u'_seq_no': 782, u'_shards': {u'successful': 1, u'failed': 0, u'total': 1}, u'_index': u'unicorn', u'_version': 3, u'_primary_term': 1, u'result': u'updated', u'_id': u'260'}\n",
      "Data indexed successfully\n"
     ]
    }
   ],
   "source": [
    "es = connect_elasticsearch()\n",
    "\n",
    "for idx, row in enumerate(unicorn):\n",
    "    if es is not None:\n",
    "        if create_index(es, 'unicorn'):\n",
    "            out = store_record(es, 'unicorn', idx, row)\n",
    "            print('Data indexed successfully')"
   ]
  },
  {
   "cell_type": "markdown",
   "metadata": {},
   "source": [
    "### Execute search requests"
   ]
  },
  {
   "cell_type": "code",
   "execution_count": 18,
   "metadata": {
    "collapsed": false
   },
   "outputs": [
    {
     "name": "stdout",
     "output_type": "stream",
     "text": [
      "Yay Connected\n",
      "{u'_shards': {u'failed': 0, u'skipped': 0, u'successful': 1, u'total': 1},\n",
      " u'hits': {u'hits': [{u'_id': u'20',\n",
      "                      u'_index': u'unicorn',\n",
      "                      u'_score': 5.964426,\n",
      "                      u'_source': {u'Company': u'Manbang Group',\n",
      "                                   u'Country': u'China',\n",
      "                                   u'Date Joined': u'4/24/2018',\n",
      "                                   u'Industry': u'Supply chain & Logistics',\n",
      "                                   u'Select Investors': u'Softbank Group, CapitalG',\n",
      "                                   u'Valuation ($B)': u'6'},\n",
      "                      u'_type': u'default'},\n",
      "                     {u'_id': u'30',\n",
      "                      u'_index': u'unicorn',\n",
      "                      u'_score': 4.787507,\n",
      "                      u'_source': {u'Company': u'Fanatics',\n",
      "                                   u'Country': u'United States',\n",
      "                                   u'Date Joined': u'6/6/2012',\n",
      "                                   u'Industry': u'eCommerce/Marketplace',\n",
      "                                   u'Select Investors': u'SoftBank Group, Andreessen Horowitz, Temasek Holdings',\n",
      "                                   u'Valuation ($B)': u'4.5'},\n",
      "                      u'_type': u'default'},\n",
      "                     {u'_id': u'36',\n",
      "                      u'_index': u'unicorn',\n",
      "                      u'_score': 4.787507,\n",
      "                      u'_source': {u'Company': u'Olacabs',\n",
      "                                   u'Country': u'India',\n",
      "                                   u'Date Joined': u'10/27/2014',\n",
      "                                   u'Industry': u'On-demand',\n",
      "                                   u'Select Investors': u'Accel Partners, SoftBank Group, Sequoia Capital',\n",
      "                                   u'Valuation ($B)': u'4.3'},\n",
      "                      u'_type': u'default'},\n",
      "                     {u'_id': u'39',\n",
      "                      u'_index': u'unicorn',\n",
      "                      u'_score': 4.787507,\n",
      "                      u'_source': {u'Company': u'DoorDash',\n",
      "                                   u'Country': u'United States',\n",
      "                                   u'Date Joined': u'3/1/2018',\n",
      "                                   u'Industry': u'Food Delivery',\n",
      "                                   u'Select Investors': u'Softbank Group, Sequoia Capital, Khosla Ventures',\n",
      "                                   u'Valuation ($B)': u'4'},\n",
      "                      u'_type': u'default'},\n",
      "                     {u'_id': u'85',\n",
      "                      u'_index': u'unicorn',\n",
      "                      u'_score': 4.787507,\n",
      "                      u'_source': {u'Company': u'Improbable',\n",
      "                                   u'Country': u'United Kingdom',\n",
      "                                   u'Date Joined': u'5/12/2017',\n",
      "                                   u'Industry': u'AR/VR',\n",
      "                                   u'Select Investors': u'Andreessen Horowitz, SoftBank Group, Temasek Holdings',\n",
      "                                   u'Valuation ($B)': u'2'},\n",
      "                      u'_type': u'default'},\n",
      "                     {u'_id': u'5',\n",
      "                      u'_index': u'unicorn',\n",
      "                      u'_score': 4.4920454,\n",
      "                      u'_source': {u'Company': u'WeWork',\n",
      "                                   u'Country': u'United States',\n",
      "                                   u'Date Joined': u'2/3/2014',\n",
      "                                   u'Industry': u'Facilities',\n",
      "                                   u'Select Investors': u'T. Rowe Price, Benchmark Capital, SoftBank Group',\n",
      "                                   u'Valuation ($B)': u'20'},\n",
      "                      u'_type': u'default'},\n",
      "                     {u'_id': u'12',\n",
      "                      u'_index': u'unicorn',\n",
      "                      u'_score': 4.4920454,\n",
      "                      u'_source': {u'Company': u'GrabTaxi',\n",
      "                                   u'Country': u'Singapore',\n",
      "                                   u'Date Joined': u'12/4/2014',\n",
      "                                   u'Industry': u'On-Demand',\n",
      "                                   u'Select Investors': u'GGV Capital, Vertex Venture Holdings, Softbank Group',\n",
      "                                   u'Valuation ($B)': u'11'},\n",
      "                      u'_type': u'default'},\n",
      "                     {u'_id': u'250',\n",
      "                      u'_index': u'unicorn',\n",
      "                      u'_score': 4.4920454,\n",
      "                      u'_source': {u'Company': u'Cohesity',\n",
      "                                   u'Country': u'United States',\n",
      "                                   u'Date Joined': u'6/11/2018',\n",
      "                                   u'Industry': u'Data Storage',\n",
      "                                   u'Select Investors': u'SoftBank Group, Sequoia Capital, Wing Venture Capital',\n",
      "                                   u'Valuation ($B)': u'1'},\n",
      "                      u'_type': u'default'},\n",
      "                     {u'_id': u'28',\n",
      "                      u'_index': u'unicorn',\n",
      "                      u'_score': 4.230933,\n",
      "                      u'_source': {u'Company': u'Oyo Rooms',\n",
      "                                   u'Country': u'India',\n",
      "                                   u'Date Joined': u'9/25/2018',\n",
      "                                   u'Industry': u'Travel Tech',\n",
      "                                   u'Select Investors': u'SoftBank Group, Sequoia Capital India,Lightspeed India Partners',\n",
      "                                   u'Valuation ($B)': u'5'},\n",
      "                      u'_type': u'default'},\n",
      "                     {u'_id': u'41',\n",
      "                      u'_index': u'unicorn',\n",
      "                      u'_score': 3.998509,\n",
      "                      u'_source': {u'Company': u'Auto1 Group',\n",
      "                                   u'Country': u'Germany',\n",
      "                                   u'Date Joined': u'8/3/2015',\n",
      "                                   u'Industry': u'eCommerce/Marketplace',\n",
      "                                   u'Select Investors': u'Digital Sky Technologies, Piton Capital, DN Capital, SoftBank Group',\n",
      "                                   u'Valuation ($B)': u'3.54'},\n",
      "                      u'_type': u'default'}],\n",
      "           u'max_score': 5.964426,\n",
      "           u'total': 50},\n",
      " u'timed_out': False,\n",
      " u'took': 1}\n"
     ]
    }
   ],
   "source": [
    "es = connect_elasticsearch()\n",
    "\n",
    "search_object_1 = {\n",
    "  \"query\":{\n",
    "    \"match\": {\n",
    "    \"Country\": \"United States\"\n",
    "    }\n",
    "  }\n",
    "}\n",
    "\n",
    "\n",
    "search_object_2 = {\n",
    "  \"query\": {\n",
    "    \"match\": {\n",
    "      \"Select Investors.keyword\":  \"SoftBank Group\"\n",
    "      }\n",
    "    }\n",
    "  }\n",
    "\n",
    "\n",
    "search(es, 'unicorn', search_object_2)"
   ]
  },
  {
   "cell_type": "code",
   "execution_count": null,
   "metadata": {
    "collapsed": true
   },
   "outputs": [],
   "source": []
  }
 ],
 "metadata": {
  "anaconda-cloud": {},
  "kernelspec": {
   "display_name": "Python 2",
   "language": "python",
   "name": "python2"
  },
  "language_info": {
   "codemirror_mode": {
    "name": "ipython",
    "version": 2
   },
   "file_extension": ".py",
   "mimetype": "text/x-python",
   "name": "python",
   "nbconvert_exporter": "python",
   "pygments_lexer": "ipython2",
   "version": "2.7.13"
  }
 },
 "nbformat": 4,
 "nbformat_minor": 2
}
>>>>>>> 69905658ef91f28f5fdf2272f9b743c77fd12365
